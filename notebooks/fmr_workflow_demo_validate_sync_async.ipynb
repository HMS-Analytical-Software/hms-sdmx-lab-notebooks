{
 "cells": [
  {
   "cell_type": "markdown",
   "id": "b894dc0b",
   "metadata": {},
   "source": [
    "## Programmatic Access: Synchronous and Asynchronous Data Validation Using the SDMX Lab\n",
    "\n",
    "This notebook demonstrates how to validate datasets against DSDs synchronously and asynchronously using REST-API calls to FMR running inside an SDMX Lab instance."
   ]
  },
  {
   "cell_type": "code",
   "execution_count": 1,
   "id": "7d1a482d",
   "metadata": {},
   "outputs": [],
   "source": [
    "import utils\n",
    "import requests\n",
    "import zipfile\n",
    "import io\n",
    "import json\n",
    "import pprint\n",
    "from requests.auth import HTTPBasicAuth\n",
    "from getpass import getpass\n",
    "from pathlib import Path"
   ]
  },
  {
   "cell_type": "markdown",
   "id": "7a5be685",
   "metadata": {},
   "source": [
    "Set up your credentials for basic authorization. These will be used to authenticate REST-API calls to the Lab instance."
   ]
  },
  {
   "cell_type": "code",
   "execution_count": 2,
   "id": "21185d7d",
   "metadata": {},
   "outputs": [],
   "source": [
    "user = input(\"Username: \")\n",
    "password = getpass(\"Password: \")\n",
    "auth = HTTPBasicAuth(username=user, password=password)"
   ]
  },
  {
   "cell_type": "markdown",
   "id": "1bec7fb0",
   "metadata": {},
   "source": [
    "Specify the URL endpoint for the Lab instance. This is where the REST-API calls will be sent."
   ]
  },
  {
   "cell_type": "code",
   "execution_count": 3,
   "id": "cebb8e04",
   "metadata": {},
   "outputs": [],
   "source": [
    "# Define Lab instance endpoint\n",
    "# This is constructed automatically from the provided user name.\n",
    "fmr_url = f\"https://{user}.sdmx.solutions/fmr\""
   ]
  },
  {
   "cell_type": "markdown",
   "id": "f1d22adb",
   "metadata": {},
   "source": [
    "Submit the provision agreement referenced by the datasets in these examples to FMR"
   ]
  },
  {
   "cell_type": "code",
   "execution_count": 4,
   "id": "eb9de8b0",
   "metadata": {},
   "outputs": [
    {
     "name": "stderr",
     "output_type": "stream",
     "text": [
      "c:\\Users\\david.haslacher\\AppData\\Local\\miniconda3\\envs\\sdmxlab\\Lib\\site-packages\\urllib3\\connectionpool.py:1097: InsecureRequestWarning: Unverified HTTPS request is being made to host 'david.sdmx.solutions'. Adding certificate verification is strongly advised. See: https://urllib3.readthedocs.io/en/latest/advanced-usage.html#tls-warnings\n",
      "  warnings.warn(\n"
     ]
    },
    {
     "name": "stdout",
     "output_type": "stream",
     "text": [
      "Provision agreement successfully submitted to FMR.\n"
     ]
    }
   ],
   "source": [
    "# Prepare provision agreement\n",
    "endpoint = f\"{fmr_url}/ws/secure/sdmxapi/rest\"\n",
    "path = 'provision_agreement.xml'\n",
    "data = Path(path).read_text()\n",
    "headers = {\"Content-Type\": \"application/xml\"}\n",
    "\n",
    "# Post provision agreement\n",
    "response = requests.post(\n",
    "    endpoint, \n",
    "    data=data, \n",
    "    headers=headers, \n",
    "    auth=(user, password),\n",
    "    verify=False\n",
    ")\n",
    "\n",
    "# Check success\n",
    "if response.status_code in [200, 201]:\n",
    "    print(\"Provision agreement successfully submitted to FMR.\")\n",
    "else:\n",
    "    print(f\"Failed to submit provision agreement. Status code: {response.status_code}\")"
   ]
  },
  {
   "cell_type": "markdown",
   "id": "e05fef2e",
   "metadata": {},
   "source": [
    "Validate an SDMX-ML data file against the respective DSD using the synchronous FMR validation service. Here, the validation should pass because the data file conforms to the DSD."
   ]
  },
  {
   "cell_type": "code",
   "execution_count": 5,
   "id": "8e95f3e9",
   "metadata": {},
   "outputs": [
    {
     "name": "stderr",
     "output_type": "stream",
     "text": [
      "c:\\Users\\david.haslacher\\AppData\\Local\\miniconda3\\envs\\sdmxlab\\Lib\\site-packages\\urllib3\\connectionpool.py:1097: InsecureRequestWarning: Unverified HTTPS request is being made to host 'david.sdmx.solutions'. Adding certificate verification is strongly advised. See: https://urllib3.readthedocs.io/en/latest/advanced-usage.html#tls-warnings\n",
      "  warnings.warn(\n"
     ]
    },
    {
     "name": "stdout",
     "output_type": "stream",
     "text": [
      "File was processed successfully, continue doing useful things ...\n",
      "Summary:\n",
      "  1 valid series + 0 series with errors\n",
      "\n",
      "Invalid Data:\n",
      "  Structure: urn:sdmx:org.sdmx.infomodel.registry.ProvisionAgreement=BIS_EXPERTS_CAPBLDG:DATAFLOW2_BIS_EXPERTS_CAPBLDG_MY_DP(1.0)\n",
      "  Series: 0\n",
      "  Observations: 0\n",
      "  Groups: 0\n",
      "\n",
      "Valid Data:\n",
      "  Structure: urn:sdmx:org.sdmx.infomodel.registry.ProvisionAgreement=BIS_EXPERTS_CAPBLDG:DATAFLOW2_BIS_EXPERTS_CAPBLDG_MY_DP(1.0)\n",
      "  Series: 1\n",
      "  Observations: 2\n",
      "  Groups: 0\n",
      "\n",
      "Datasets Summary:\n",
      "  DSD: urn:sdmx:org.sdmx.infomodel.datastructure.DataStructure=BIS_EXPERTS_CAPBLDG:DS2(1.0)\n",
      "  Dataflow: urn:sdmx:org.sdmx.infomodel.datastructure.Dataflow=BIS_EXPERTS_CAPBLDG:DATAFLOW2(1.0)\n",
      "  Series Count: 1\n",
      "  Observations Count: 2\n",
      "  Groups Count: 0\n",
      "    Period A: Annual (2019 to 2020)\n",
      "\n"
     ]
    }
   ],
   "source": [
    "### EXAMPLE #1 - Validate\n",
    "### Input file: XML\n",
    "### Scenario: PASS\n",
    "\n",
    "# The URL of the synchronous validation web service\n",
    "weservice_url = f\"{fmr_url}/ws/public/data/validate\"\n",
    "\n",
    "# Path to the file you want to post\n",
    "data_file_path = 'example_data_pass.xml' # validation pass test\n",
    "input_type = \"application/xml\" # the data for validation is in XML\n",
    "output_type = \"application/vnd.sdmx.structurespecificdata+xml;version=2.1\" # return valid and invalid output datasets as SDMX-ML 2.1 structure specific\n",
    "\n",
    "# Define the headers\n",
    "headers = {\n",
    "    \"Content-Type\": input_type, # the data for validation is in XML\n",
    "    \"Inc-Metrics\": \"true\", # include metrics in the validation report on the number of valid and invalid series and observations\n",
    "    \"Inc-Valid\": \"true\", # output the valid data as an SDMX dataset in a file called 'ValidData'\n",
    "    \"Inc-Invalid\": \"true\", # output the invalid data as an SDMX dataset in a file called 'InvalidData'\n",
    "    \"Zip\": \"true\", # return the output packaged as a ZIP file\n",
    "    \"Accept\": output_type # return valid and invalid output datasets as SDMX-ML 2.1 structure specific\n",
    "}\n",
    "\n",
    "utils.sync_validate(weservice_url, data_file_path, headers, auth)"
   ]
  },
  {
   "cell_type": "markdown",
   "id": "68e2a837",
   "metadata": {},
   "source": [
    "Validate an SDMX-ML data file against the respective DSD using the synchronous FMR validation service. Here, the validation should fail because the data file does not conform to the DSD. This example assumes that the DSD has already been submitted to the FMR instance. "
   ]
  },
  {
   "cell_type": "code",
   "execution_count": 6,
   "id": "c5406390",
   "metadata": {},
   "outputs": [
    {
     "name": "stderr",
     "output_type": "stream",
     "text": [
      "c:\\Users\\david.haslacher\\AppData\\Local\\miniconda3\\envs\\sdmxlab\\Lib\\site-packages\\urllib3\\connectionpool.py:1097: InsecureRequestWarning: Unverified HTTPS request is being made to host 'david.sdmx.solutions'. Adding certificate verification is strongly advised. See: https://urllib3.readthedocs.io/en/latest/advanced-usage.html#tls-warnings\n",
      "  warnings.warn(\n"
     ]
    },
    {
     "name": "stdout",
     "output_type": "stream",
     "text": [
      "Errors: True\n",
      "Errors - Stop processing this file and action exception tasks ...\n",
      "Summary:\n",
      "  1 valid series + 4 series with errors\n",
      "\n",
      "Invalid Data:\n",
      "  Structure: urn:sdmx:org.sdmx.infomodel.registry.ProvisionAgreement=BIS_EXPERTS_CAPBLDG:DATAFLOW2_BIS_EXPERTS_CAPBLDG_MY_DP(1.0)\n",
      "  Series: 4\n",
      "  Observations: 5\n",
      "  Groups: 0\n",
      "\n",
      "Valid Data:\n",
      "  Structure: urn:sdmx:org.sdmx.infomodel.registry.ProvisionAgreement=BIS_EXPERTS_CAPBLDG:DATAFLOW2_BIS_EXPERTS_CAPBLDG_MY_DP(1.0)\n",
      "  Series: 1\n",
      "  Observations: 1\n",
      "  Groups: 0\n",
      "\n",
      "Datasets Summary:\n",
      "  DSD: urn:sdmx:org.sdmx.infomodel.datastructure.DataStructure=BIS_EXPERTS_CAPBLDG:DS2(1.0)\n",
      "  Dataflow: urn:sdmx:org.sdmx.infomodel.datastructure.Dataflow=BIS_EXPERTS_CAPBLDG:DATAFLOW2(1.0)\n",
      "  Series Count: 5\n",
      "  Observations Count: 6\n",
      "  Groups Count: 0\n",
      "    Period A: Annual (2019 to 2023)\n",
      "    Period M: Monthly (2021-12 to 2021-12)\n",
      "\n",
      "    Validation Rule: Representation\n",
      "      Error Code: REG-201-200\n",
      "      Message: Dimension 'COUNTRY' is reporting value 'CA' which is not a valid representation in referenced Codelist 'BIS_EXPERTS_CAPBLDG:EG2_COUNTRIES(1.0)'\n",
      "      Dataset: 0\n",
      "      Position: Series\n",
      "      Keys: A:ARAB:CA\n",
      "      ComponentId: COUNTRY\n",
      "      Reported Value: CA\n",
      "\n",
      "      Error Code: REG-201-200\n",
      "      Message: Dimension 'COUNTRY' is reporting value 'NZ' which is not a valid representation in referenced Codelist 'BIS_EXPERTS_CAPBLDG:EG2_COUNTRIES(1.0)'\n",
      "      Dataset: 0\n",
      "      Position: Series\n",
      "      Keys: A:ARAB:NZ\n",
      "      ComponentId: COUNTRY\n",
      "      Reported Value: NZ\n",
      "\n",
      "      Error Code: REG-201-200\n",
      "      Message: Dimension 'COUNTRY' is reporting value 'UK' which is not a valid representation in referenced Codelist 'BIS_EXPERTS_CAPBLDG:EG2_COUNTRIES(1.0)'\n",
      "      Dataset: 0\n",
      "      Position: Series\n",
      "      Keys: A:ARAB:UK\n",
      "      ComponentId: COUNTRY\n",
      "      Reported Value: UK\n",
      "\n",
      "      Error Code: REG-201-200\n",
      "      Message: Dimension 'COUNTRY' is reporting value 'US' which is not a valid representation in referenced Codelist 'BIS_EXPERTS_CAPBLDG:EG2_COUNTRIES(1.0)'\n",
      "      Dataset: 0\n",
      "      Position: Series\n",
      "      Keys: A:ARAB:US\n",
      "      ComponentId: COUNTRY\n",
      "      Reported Value: US\n",
      "\n",
      "\n"
     ]
    }
   ],
   "source": [
    "### EXAMPLE #2 - Validate\n",
    "### Input file: CSV\n",
    "### Scenario: FAIL\n",
    "\n",
    "# The URL of the synchronous validation web service\n",
    "weservice_url = f\"{fmr_url}/ws/public/data/validate\"\n",
    "\n",
    "# Path to the file you want to post\n",
    "data_file_path = 'example_data_fail.csv' # validation failure test\n",
    "input_type = \"application/text\" # the data for validation is in CSV\n",
    "output_type = \"application/vnd.sdmx.data+csv;version=2.0.0\" # return valid and invalid output datasets as SDMX-CSV\n",
    "\n",
    "# Define the headers\n",
    "headers = {\n",
    "    \"Content-Type\": input_type, # the data for validation is in XML\n",
    "    \"Inc-Metrics\": \"true\", # include metrics in the validation report on the number of valid and invalid series and observations\n",
    "    \"Inc-Valid\": \"true\", # output the valid data as an SDMX dataset in a file called 'ValidData'\n",
    "    \"Inc-Invalid\": \"true\", # output the invalid data as an SDMX dataset in a file called 'InvalidData'\n",
    "    \"Zip\": \"true\", # return the output packaged as a ZIP file\n",
    "    \"Accept\": output_type # return valid and invalid output datasets as SDMX-ML 2.1 structure specific\n",
    "}\n",
    "\n",
    "utils.sync_validate(weservice_url, data_file_path, headers, auth)"
   ]
  },
  {
   "cell_type": "markdown",
   "id": "21493250",
   "metadata": {},
   "source": [
    "Validate an SDMX-ML data file against the respective DSD using the sychronous FMR validation service. Here, the validation should pass because the data file conforms to the DSD. Furthermore, the output should be returned as JSON. This example assumes that the DSD has already been submitted to the FMR instance. "
   ]
  },
  {
   "cell_type": "code",
   "execution_count": 7,
   "id": "8c490dfc",
   "metadata": {},
   "outputs": [
    {
     "name": "stderr",
     "output_type": "stream",
     "text": [
      "c:\\Users\\david.haslacher\\AppData\\Local\\miniconda3\\envs\\sdmxlab\\Lib\\site-packages\\urllib3\\connectionpool.py:1097: InsecureRequestWarning: Unverified HTTPS request is being made to host 'david.sdmx.solutions'. Adding certificate verification is strongly advised. See: https://urllib3.readthedocs.io/en/latest/advanced-usage.html#tls-warnings\n",
      "  warnings.warn(\n"
     ]
    },
    {
     "name": "stdout",
     "output_type": "stream",
     "text": [
      "File was processed successfully, continue doing useful things ...\n",
      "Summary:\n",
      "  1 valid series + 0 series with errors\n",
      "\n",
      "Invalid Data:\n",
      "  Structure: urn:sdmx:org.sdmx.infomodel.registry.ProvisionAgreement=BIS_EXPERTS_CAPBLDG:DATAFLOW2_BIS_EXPERTS_CAPBLDG_MY_DP(1.0)\n",
      "  Series: 0\n",
      "  Observations: 0\n",
      "  Groups: 0\n",
      "\n",
      "Valid Data:\n",
      "  Structure: urn:sdmx:org.sdmx.infomodel.registry.ProvisionAgreement=BIS_EXPERTS_CAPBLDG:DATAFLOW2_BIS_EXPERTS_CAPBLDG_MY_DP(1.0)\n",
      "  Series: 1\n",
      "  Observations: 2\n",
      "  Groups: 0\n",
      "\n",
      "Datasets Summary:\n",
      "  DSD: urn:sdmx:org.sdmx.infomodel.datastructure.DataStructure=BIS_EXPERTS_CAPBLDG:DS2(1.0)\n",
      "  Dataflow: urn:sdmx:org.sdmx.infomodel.datastructure.Dataflow=BIS_EXPERTS_CAPBLDG:DATAFLOW2(1.0)\n",
      "  Series Count: 1\n",
      "  Observations Count: 2\n",
      "  Groups Count: 0\n",
      "    Period A: Annual (2019 to 2020)\n",
      "\n"
     ]
    }
   ],
   "source": [
    "### EXAMPLE #3 - CONVERT\n",
    "### Input file: XML\n",
    "### OUTPUT file: JSON\n",
    "### Scenario: PASS\n",
    "\n",
    "# The URL of the synchronous validation web service\n",
    "weservice_url = f\"{fmr_url}/ws/public/data/validate\"\n",
    "\n",
    "# Path to the file you want to post\n",
    "data_file_path = 'example_data_pass.xml' # validation pass test\n",
    "input_type = \"application/xml\" # the data for validation is in XML\n",
    "output_type = \"application/vnd.sdmx.data+json;version=2.0.0\" # return JSON file\n",
    "\n",
    "# Define the headers\n",
    "headers = {\n",
    "    \"Content-Type\": input_type, # the data for validation is in XML\n",
    "    \"Inc-Metrics\": \"true\", # include metrics in the validation report on the number of valid and invalid series and observations\n",
    "    \"Inc-Valid\": \"true\", # output the valid data as an SDMX dataset in a file called 'ValidData'\n",
    "    \"Inc-Invalid\": \"true\", # output the invalid data as an SDMX dataset in a file called 'InvalidData'\n",
    "    \"Zip\": \"true\", # return the output packaged as a ZIP file\n",
    "    \"Accept\": output_type # return valid and invalid output datasets as SDMX-ML 2.1 structure specific\n",
    "}\n",
    "\n",
    "\n",
    "utils.sync_validate(weservice_url, data_file_path, headers, auth)"
   ]
  },
  {
   "cell_type": "markdown",
   "id": "00dd6bd4",
   "metadata": {},
   "source": [
    "This example validates a dataset against the respective DSD using the asynchronous web service. This service is suitable for larger datasets and heavier workloads that would otherwise result in HTTP timeouts due to the processing time if using the sychronous web service. For further information, see: https://fmrwiki.sdmxcloud.org/Asynchronous_Data_Validation_and_Transformation_Web_Service."
   ]
  },
  {
   "cell_type": "code",
   "execution_count": 8,
   "id": "eb46bc24",
   "metadata": {},
   "outputs": [
    {
     "name": "stdout",
     "output_type": "stream",
     "text": [
      "Job Status: True\n",
      "Job ID: fdc730c9-aceb-482d-8065-7331ea6bc4b7\n"
     ]
    },
    {
     "name": "stderr",
     "output_type": "stream",
     "text": [
      "c:\\Users\\david.haslacher\\AppData\\Local\\miniconda3\\envs\\sdmxlab\\Lib\\site-packages\\urllib3\\connectionpool.py:1097: InsecureRequestWarning: Unverified HTTPS request is being made to host 'david.sdmx.solutions'. Adding certificate verification is strongly advised. See: https://urllib3.readthedocs.io/en/latest/advanced-usage.html#tls-warnings\n",
      "  warnings.warn(\n"
     ]
    }
   ],
   "source": [
    "### EXAMPLE #4 - ASYNC - step 1 - load data\n",
    "### Input file: XML\n",
    "### Scenario: PASS\n",
    "\n",
    "weservice_url = f\"{fmr_url}/ws/public/data/load\"\n",
    "data_file_path = 'example_data_pass.xml' # Path to the file you want to post\n",
    "headers = {'Content-Type': 'application/xml'} # the data for validation is in XML\n",
    "job_status, job_id = utils.async_load(weservice_url, data_file_path, headers, auth)\n",
    "print(f\"Job Status: {job_status}\")\n",
    "print(f\"Job ID: {job_id}\")"
   ]
  },
  {
   "cell_type": "code",
   "execution_count": 9,
   "id": "5526f006",
   "metadata": {},
   "outputs": [
    {
     "name": "stderr",
     "output_type": "stream",
     "text": [
      "c:\\Users\\david.haslacher\\AppData\\Local\\miniconda3\\envs\\sdmxlab\\Lib\\site-packages\\urllib3\\connectionpool.py:1097: InsecureRequestWarning: Unverified HTTPS request is being made to host 'david.sdmx.solutions'. Adding certificate verification is strongly advised. See: https://urllib3.readthedocs.io/en/latest/advanced-usage.html#tls-warnings\n",
      "  warnings.warn(\n"
     ]
    },
    {
     "data": {
      "text/plain": [
       "False"
      ]
     },
     "execution_count": 9,
     "metadata": {},
     "output_type": "execute_result"
    }
   ],
   "source": [
    "### EXAMPLE #4 - ASYNC - step 2 - test status\n",
    "\n",
    "weservice_url = f\"{fmr_url}/ws/public/data/loadStatus\"\n",
    "utils.async_check_load_status(weservice_url, job_id, CHECK_INTERVAL=5, auth=auth)"
   ]
  },
  {
   "cell_type": "code",
   "execution_count": 10,
   "id": "618ce38e",
   "metadata": {},
   "outputs": [
    {
     "name": "stderr",
     "output_type": "stream",
     "text": [
      "c:\\Users\\david.haslacher\\AppData\\Local\\miniconda3\\envs\\sdmxlab\\Lib\\site-packages\\urllib3\\connectionpool.py:1097: InsecureRequestWarning: Unverified HTTPS request is being made to host 'david.sdmx.solutions'. Adding certificate verification is strongly advised. See: https://urllib3.readthedocs.io/en/latest/advanced-usage.html#tls-warnings\n",
      "  warnings.warn(\n"
     ]
    },
    {
     "name": "stdout",
     "output_type": "stream",
     "text": [
      "('{\"meta\":{\"id\":\"IREF778166\",\"prepared\":\"2024-10-09T12:43:38\",\"test\":false,\"datasetId\":\"a6d5d53ba-7860-4a60-b811-a7020a61f635\",\"sender\":{\"id\":\"Unknown\"},\"links\":[{\"rel\":\"self\",\"href\":\"/data/download?uid=fdc730c9-aceb-482d-8065-7331ea6bc4b7\",\"uri\":\"https://raw.githubusercontent.com/sdmx-twg/sdmx-json/develop/data-message/tools/schemas/1.0/sdmx-json-data-schema.json\"}]},\"data\":{\"dataSets\":[{\"links\":[{\"rel\":\"dataflow\",\"urn\":\"urn:sdmx:org.sdmx.infomodel.datastructure.Dataflow=BIS_EXPERTS_CAPBLDG:DATAFLOW2(1.0)\"}],\"action\":\"Information\",\"series\":{\"0:0:0\":{\"attributes\":[],\"observations\":{\"0\":[\"2019\"],\"1\":[\"2020\"]}}}}],\"structure\":{\"links\":[{\"rel\":\"dataflow\",\"urn\":\"urn:sdmx:org.sdmx.infomodel.datastructure.Dataflow=BIS_EXPERTS_CAPBLDG:DATAFLOW2(1.0)\"},{\"rel\":\"provisionagreement\",\"urn\":\"urn:sdmx:org.sdmx.infomodel.registry.ProvisionAgreement=BIS_EXPERTS_CAPBLDG:DATAFLOW2_BIS_EXPERTS_CAPBLDG_MY_DP(1.0)\"},{\"rel\":\"datastructure\",\"urn\":\"urn:sdmx:org.sdmx.infomodel.datastructure.DataStructure=BIS_EXPERTS_CAPBLDG:DS2(1.0)\"}],\"name\":\"Source '\n",
      " 'Dataflow\",\"names\":{\"en\":\"Source '\n",
      " 'Dataflow\"},\"dimensions\":{\"dataset\":[],\"series\":[{\"id\":\"FREQUENCY\",\"name\":\"Frequency\",\"keyPosition\":0,\"role\":null,\"values\":[{\"id\":\"A\",\"name\":\"Annual\"}]},{\"id\":\"SERIES\",\"name\":\"Series\",\"keyPosition\":1,\"role\":null,\"values\":[{\"id\":\"ARAB\",\"name\":\"Arable '\n",
      " 'Land\"}]},{\"id\":\"COUNTRY\",\"name\":\"Country\",\"keyPosition\":2,\"role\":null,\"values\":[{\"id\":\"FR\",\"name\":\"France\"}]}],\"observation\":[{\"id\":\"TIME_PERIOD\",\"name\":\"Time '\n",
      " 'period\",\"description\":\"The period of time or point in time to which the '\n",
      " 'measured observation '\n",
      " 'refers.\",\"keyPosition\":3,\"role\":\"time\",\"values\":[{\"start\":\"2019-01-01T00:00:00\",\"end\":\"2019-12-31T23:59:59\",\"id\":\"2019\",\"name\":\"2019\"},{\"start\":\"2020-01-01T00:00:00\",\"end\":\"2020-12-31T23:59:59\",\"id\":\"2020\",\"name\":\"2020\"}]}]},\"attributes\":{\"dataset\":[],\"series\":[],\"observation\":[]}}}}')\n"
     ]
    }
   ],
   "source": [
    "### EXAMPLE #4 - ASYNC - step 3 - download results\n",
    "\n",
    "weservice_url = f\"{fmr_url}/ws/public/data/download\"\n",
    "headers = {'Accept': 'application/vnd.sdmx.data+json'}\n",
    "response = utils.async_map_and_download(weservice_url, job_id, headers, auth)\n",
    "pprint.pp(response)"
   ]
  }
 ],
 "metadata": {
  "kernelspec": {
   "display_name": "sdmxlab",
   "language": "python",
   "name": "python3"
  },
  "language_info": {
   "codemirror_mode": {
    "name": "ipython",
    "version": 3
   },
   "file_extension": ".py",
   "mimetype": "text/x-python",
   "name": "python",
   "nbconvert_exporter": "python",
   "pygments_lexer": "ipython3",
   "version": "3.13.0"
  }
 },
 "nbformat": 4,
 "nbformat_minor": 5
}
