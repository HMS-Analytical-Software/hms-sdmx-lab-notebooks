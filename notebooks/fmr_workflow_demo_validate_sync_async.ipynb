{
 "cells": [
  {
   "cell_type": "markdown",
   "id": "b894dc0b",
   "metadata": {},
   "source": [
    "## Programmatic Access: Synchronous and Asynchronous Data Validation Using the SDMX Lab\n",
    "\n",
    "This notebook demonstrates how to validate datasets against DSDs synchronously and asynchronously using REST-API calls to FMR running inside an SDMX Lab instance."
   ]
  },
  {
   "cell_type": "code",
   "execution_count": null,
   "id": "3ec0e276",
   "metadata": {},
   "outputs": [],
   "source": [
    "# Clone the repo\n",
    "!git clone https://github.com/HMS-Analytical-Software/hms-sdmx-lab-notebooks.git\n",
    "%cd hms-sdmx-lab-notebooks\n",
    "\n",
    "# Install dependencies\n",
    "!pip install -r requirements.txt"
   ]
  },
  {
   "cell_type": "code",
   "execution_count": null,
   "id": "7d1a482d",
   "metadata": {},
   "outputs": [],
   "source": [
    "import utils\n",
    "import requests\n",
    "import zipfile\n",
    "import io\n",
    "import json\n",
    "import pprint\n",
    "from requests.auth import HTTPBasicAuth\n",
    "from getpass import getpass\n",
    "from pathlib import Path"
   ]
  },
  {
   "cell_type": "markdown",
   "id": "7a5be685",
   "metadata": {},
   "source": [
    "Set up your credentials for basic authorization. These will be used to authenticate REST-API calls to the Lab instance."
   ]
  },
  {
   "cell_type": "code",
   "execution_count": null,
   "id": "21185d7d",
   "metadata": {},
   "outputs": [],
   "source": [
    "user = input(\"Username: \")\n",
    "password = getpass(\"Password: \")\n",
    "auth = HTTPBasicAuth(username=user, password=password)"
   ]
  },
  {
   "cell_type": "markdown",
   "id": "1bec7fb0",
   "metadata": {},
   "source": [
    "Specify the URL endpoint for the Lab instance. This is where the REST-API calls will be sent."
   ]
  },
  {
   "cell_type": "code",
   "execution_count": null,
   "id": "cebb8e04",
   "metadata": {},
   "outputs": [],
   "source": [
    "# Define Lab instance endpoint\n",
    "# This is constructed automatically from the provided user name.\n",
    "lab_url = input(\"Lab URL: \")\n",
    "fmr_url = f\"{lab_url}/fmr\""
   ]
  },
  {
   "cell_type": "markdown",
   "id": "f1d22adb",
   "metadata": {},
   "source": [
    "Submit the provision agreement referenced by the datasets in these examples to FMR"
   ]
  },
  {
   "cell_type": "code",
   "execution_count": null,
   "id": "eb9de8b0",
   "metadata": {},
   "outputs": [],
   "source": [
    "# Prepare provision agreement\n",
    "endpoint = f\"{fmr_url}/ws/secure/sdmxapi/rest\"\n",
    "path = 'provision_agreement.xml'\n",
    "data = Path(path).read_text()\n",
    "headers = {\"Content-Type\": \"application/xml\"}\n",
    "\n",
    "# Post provision agreement\n",
    "response = requests.post(\n",
    "    endpoint, \n",
    "    data=data, \n",
    "    headers=headers, \n",
    "    auth=(user, password),\n",
    "    verify=False\n",
    ")\n",
    "\n",
    "# Check success\n",
    "if response.status_code in [200, 201]:\n",
    "    print(\"Provision agreement successfully submitted to FMR.\")\n",
    "else:\n",
    "    print(f\"Failed to submit provision agreement. Status code: {response.status_code}\")"
   ]
  },
  {
   "cell_type": "markdown",
   "id": "e05fef2e",
   "metadata": {},
   "source": [
    "Validate an SDMX-ML data file against the respective DSD using the synchronous FMR validation service. Here, the validation should pass because the data file conforms to the DSD."
   ]
  },
  {
   "cell_type": "code",
   "execution_count": null,
   "id": "8e95f3e9",
   "metadata": {},
   "outputs": [],
   "source": [
    "### EXAMPLE #1 - Validate\n",
    "### Input file: XML\n",
    "### Scenario: PASS\n",
    "\n",
    "# The URL of the synchronous validation web service\n",
    "weservice_url = f\"{fmr_url}/ws/public/data/validate\"\n",
    "\n",
    "# Path to the file you want to post\n",
    "data_file_path = 'example_data_pass.xml' # validation pass test\n",
    "input_type = \"application/xml\" # the data for validation is in XML\n",
    "output_type = \"application/vnd.sdmx.structurespecificdata+xml;version=2.1\" # return valid and invalid output datasets as SDMX-ML 2.1 structure specific\n",
    "\n",
    "# Define the headers\n",
    "headers = {\n",
    "    \"Content-Type\": input_type, # the data for validation is in XML\n",
    "    \"Inc-Metrics\": \"true\", # include metrics in the validation report on the number of valid and invalid series and observations\n",
    "    \"Inc-Valid\": \"true\", # output the valid data as an SDMX dataset in a file called 'ValidData'\n",
    "    \"Inc-Invalid\": \"true\", # output the invalid data as an SDMX dataset in a file called 'InvalidData'\n",
    "    \"Zip\": \"true\", # return the output packaged as a ZIP file\n",
    "    \"Accept\": output_type # return valid and invalid output datasets as SDMX-ML 2.1 structure specific\n",
    "}\n",
    "\n",
    "utils.sync_validate(weservice_url, data_file_path, headers, auth)"
   ]
  },
  {
   "cell_type": "markdown",
   "id": "68e2a837",
   "metadata": {},
   "source": [
    "Validate an SDMX-ML data file against the respective DSD using the synchronous FMR validation service. Here, the validation should fail because the data file does not conform to the DSD. This example assumes that the DSD has already been submitted to the FMR instance. "
   ]
  },
  {
   "cell_type": "code",
   "execution_count": null,
   "id": "c5406390",
   "metadata": {},
   "outputs": [],
   "source": [
    "### EXAMPLE #2 - Validate\n",
    "### Input file: CSV\n",
    "### Scenario: FAIL\n",
    "\n",
    "# The URL of the synchronous validation web service\n",
    "weservice_url = f\"{fmr_url}/ws/public/data/validate\"\n",
    "\n",
    "# Path to the file you want to post\n",
    "data_file_path = 'example_data_fail.csv' # validation failure test\n",
    "input_type = \"application/text\" # the data for validation is in CSV\n",
    "output_type = \"application/vnd.sdmx.data+csv;version=2.0.0\" # return valid and invalid output datasets as SDMX-CSV\n",
    "\n",
    "# Define the headers\n",
    "headers = {\n",
    "    \"Content-Type\": input_type, # the data for validation is in XML\n",
    "    \"Inc-Metrics\": \"true\", # include metrics in the validation report on the number of valid and invalid series and observations\n",
    "    \"Inc-Valid\": \"true\", # output the valid data as an SDMX dataset in a file called 'ValidData'\n",
    "    \"Inc-Invalid\": \"true\", # output the invalid data as an SDMX dataset in a file called 'InvalidData'\n",
    "    \"Zip\": \"true\", # return the output packaged as a ZIP file\n",
    "    \"Accept\": output_type # return valid and invalid output datasets as SDMX-ML 2.1 structure specific\n",
    "}\n",
    "\n",
    "utils.sync_validate(weservice_url, data_file_path, headers, auth)"
   ]
  },
  {
   "cell_type": "markdown",
   "id": "21493250",
   "metadata": {},
   "source": [
    "Validate an SDMX-ML data file against the respective DSD using the sychronous FMR validation service. Here, the validation should pass because the data file conforms to the DSD. Furthermore, the output should be returned as JSON. This example assumes that the DSD has already been submitted to the FMR instance. "
   ]
  },
  {
   "cell_type": "code",
   "execution_count": null,
   "id": "8c490dfc",
   "metadata": {},
   "outputs": [],
   "source": [
    "### EXAMPLE #3 - CONVERT\n",
    "### Input file: XML\n",
    "### OUTPUT file: JSON\n",
    "### Scenario: PASS\n",
    "\n",
    "# The URL of the synchronous validation web service\n",
    "weservice_url = f\"{fmr_url}/ws/public/data/validate\"\n",
    "\n",
    "# Path to the file you want to post\n",
    "data_file_path = 'example_data_pass.xml' # validation pass test\n",
    "input_type = \"application/xml\" # the data for validation is in XML\n",
    "output_type = \"application/vnd.sdmx.data+json;version=2.0.0\" # return JSON file\n",
    "\n",
    "# Define the headers\n",
    "headers = {\n",
    "    \"Content-Type\": input_type, # the data for validation is in XML\n",
    "    \"Inc-Metrics\": \"true\", # include metrics in the validation report on the number of valid and invalid series and observations\n",
    "    \"Inc-Valid\": \"true\", # output the valid data as an SDMX dataset in a file called 'ValidData'\n",
    "    \"Inc-Invalid\": \"true\", # output the invalid data as an SDMX dataset in a file called 'InvalidData'\n",
    "    \"Zip\": \"true\", # return the output packaged as a ZIP file\n",
    "    \"Accept\": output_type # return valid and invalid output datasets as SDMX-ML 2.1 structure specific\n",
    "}\n",
    "\n",
    "\n",
    "utils.sync_validate(weservice_url, data_file_path, headers, auth)"
   ]
  },
  {
   "cell_type": "markdown",
   "id": "00dd6bd4",
   "metadata": {},
   "source": [
    "This example validates a dataset against the respective DSD using the asynchronous web service. This service is suitable for larger datasets and heavier workloads that would otherwise result in HTTP timeouts due to the processing time if using the sychronous web service. For further information, see: https://fmrwiki.sdmxcloud.org/Asynchronous_Data_Validation_and_Transformation_Web_Service."
   ]
  },
  {
   "cell_type": "code",
   "execution_count": null,
   "id": "eb46bc24",
   "metadata": {},
   "outputs": [],
   "source": [
    "### EXAMPLE #4 - ASYNC - step 1 - load data\n",
    "### Input file: XML\n",
    "### Scenario: PASS\n",
    "\n",
    "weservice_url = f\"{fmr_url}/ws/public/data/load\"\n",
    "data_file_path = 'example_data_pass.xml' # Path to the file you want to post\n",
    "headers = {'Content-Type': 'application/xml'} # the data for validation is in XML\n",
    "job_status, job_id = utils.async_load(weservice_url, data_file_path, headers, auth)\n",
    "print(f\"Job Status: {job_status}\")\n",
    "print(f\"Job ID: {job_id}\")"
   ]
  },
  {
   "cell_type": "code",
   "execution_count": null,
   "id": "5526f006",
   "metadata": {},
   "outputs": [],
   "source": [
    "### EXAMPLE #4 - ASYNC - step 2 - test status\n",
    "\n",
    "weservice_url = f\"{fmr_url}/ws/public/data/loadStatus\"\n",
    "utils.async_check_load_status(weservice_url, job_id, CHECK_INTERVAL=5, auth=auth)"
   ]
  },
  {
   "cell_type": "code",
   "execution_count": null,
   "id": "618ce38e",
   "metadata": {},
   "outputs": [],
   "source": [
    "### EXAMPLE #4 - ASYNC - step 3 - download results\n",
    "\n",
    "weservice_url = f\"{fmr_url}/ws/public/data/download\"\n",
    "headers = {'Accept': 'application/vnd.sdmx.data+json'}\n",
    "response = utils.async_map_and_download(weservice_url, job_id, headers, auth)\n",
    "pprint.pp(response)"
   ]
  }
 ],
 "metadata": {
  "kernelspec": {
   "display_name": "sdmxlab",
   "language": "python",
   "name": "python3"
  },
  "language_info": {
   "codemirror_mode": {
    "name": "ipython",
    "version": 3
   },
   "file_extension": ".py",
   "mimetype": "text/x-python",
   "name": "python",
   "nbconvert_exporter": "python",
   "pygments_lexer": "ipython3",
   "version": "3.13.0"
  }
 },
 "nbformat": 4,
 "nbformat_minor": 5
}
