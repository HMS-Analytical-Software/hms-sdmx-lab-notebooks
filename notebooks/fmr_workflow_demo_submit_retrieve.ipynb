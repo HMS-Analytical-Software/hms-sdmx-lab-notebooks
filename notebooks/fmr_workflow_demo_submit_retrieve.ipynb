{
 "cells": [
  {
   "cell_type": "markdown",
   "id": "928696d4",
   "metadata": {},
   "source": [
    "## Programmatic Access: Submit and Retrieve Artifacts using the SDMX Lab\n",
    "\n",
    "This notebook demonstrates how to submit and retrieve artifacts using REST API calls to FMR running inside an SDMX Lab instance."
   ]
  },
  {
   "cell_type": "code",
   "execution_count": null,
   "id": "a3de1751",
   "metadata": {},
   "outputs": [],
   "source": [
    "from pathlib import Path\n",
    "import requests\n",
    "import certifi\n",
    "from lxml import etree\n",
    "from getpass import getpass\n",
    "from requests.auth import HTTPBasicAuth"
   ]
  },
  {
   "cell_type": "markdown",
   "id": "c4ccfe18",
   "metadata": {},
   "source": [
    "Set up your credentials for basic authorization. These will be used to authenticate REST API calls to the Lab instance."
   ]
  },
  {
   "cell_type": "code",
   "execution_count": 3,
   "id": "a4427a0b",
   "metadata": {},
   "outputs": [],
   "source": [
    "user = input(\"Username: \")\n",
    "password = getpass(\"Password: \")\n",
    "auth = HTTPBasicAuth(username=user, password=password)"
   ]
  },
  {
   "cell_type": "markdown",
   "id": "b888361a",
   "metadata": {},
   "source": [
    "Specify the URL endpoint for the Lab instance. This is where the REST API calls will be sent."
   ]
  },
  {
   "cell_type": "code",
   "execution_count": 4,
   "id": "703fa9cb",
   "metadata": {},
   "outputs": [],
   "source": [
    "# Define Lab instance endpoint\n",
    "# This is constructed automatically from the provided user name.\n",
    "fmr_url = f\"https://{user}.sdmx.solutions/fmr\"\n",
    "endpoint = f\"{fmr_url}/ws/secure/sdmxapi/rest\""
   ]
  },
  {
   "cell_type": "markdown",
   "id": "2d8ef397",
   "metadata": {},
   "source": [
    "### Submit a dataflow to FMR via REST-API\n",
    "\n",
    "This step demonstrates how to submit a dataflow to FMR using the REST endpoint."
   ]
  },
  {
   "cell_type": "code",
   "execution_count": 5,
   "id": "36468af5",
   "metadata": {},
   "outputs": [
    {
     "name": "stderr",
     "output_type": "stream",
     "text": [
      "c:\\Users\\david.haslacher\\AppData\\Local\\miniconda3\\envs\\sdmxlab\\Lib\\site-packages\\urllib3\\connectionpool.py:1097: InsecureRequestWarning: Unverified HTTPS request is being made to host 'david.sdmx.solutions'. Adding certificate verification is strongly advised. See: https://urllib3.readthedocs.io/en/latest/advanced-usage.html#tls-warnings\n",
      "  warnings.warn(\n"
     ]
    }
   ],
   "source": [
    "# Prepare SDMX resource\n",
    "path = 'example_dataflow.xml'\n",
    "dataflow = Path(path).read_text()\n",
    "headers = {\"Content-Type\": \"application/xml\"}\n",
    "\n",
    "response = requests.post(\n",
    "    endpoint, \n",
    "    data=dataflow, \n",
    "    headers=headers, \n",
    "    auth=(user, password),\n",
    "    verify=False\n",
    ")"
   ]
  },
  {
   "cell_type": "code",
   "execution_count": 6,
   "id": "67d2a0f8",
   "metadata": {},
   "outputs": [
    {
     "name": "stdout",
     "output_type": "stream",
     "text": [
      "Resource successfully created in FMR.\n",
      "Response: <?xml version='1.0' encoding='UTF-8'?>\n",
      "<message:RegistryInterface xmlns:xsi=\"http://www.w3.org/2001/XMLSchema-instance\" xmlns:xml=\"http://www.w3.org/XML/1998/namespace\" xmlns:message=\"http://www.sdmx.org/resources/sdmxml/schemas/v2_1/message\" xmlns:com=\"http://www.sdmx.org/resources/sdmxml/schemas/v2_1/common\" xmlns:reg=\"http://www.sdmx.org/resources/sdmxml/schemas/v2_1/registry\">\n",
      "  <message:Header>\n",
      "    <message:ID>IREF127969</message:ID>\n",
      "    <message:Test>false</message:Test>\n",
      "    <message:Prepared>2024-12-04T11:46:37Z</message:Prepared>\n",
      "    <message:Sender id=\"Unknown\"/>\n",
      "  </message:Header>\n",
      "  <message:SubmitStructureResponse/></message:RegistryInterface>\n"
     ]
    }
   ],
   "source": [
    "# Display response\n",
    "if response.status_code in [200, 201]:\n",
    "    print(\"Resource successfully created in FMR.\")\n",
    "    print(\"Response:\", response.text)\n",
    "else:\n",
    "    print(f\"Failed to create resource. Status code: {response.status_code}\")\n",
    "    print(\"Response:\", response.text)"
   ]
  },
  {
   "cell_type": "markdown",
   "id": "83bc02bc",
   "metadata": {},
   "source": [
    "### Retrieve DSDs in submitted dataflow from FMR via REST-API\n",
    "\n",
    "This step demonstrates how to retrieve the individual DSDs in the submitted dataflow from FMR using the REST endpoint."
   ]
  },
  {
   "cell_type": "code",
   "execution_count": 7,
   "id": "5068b82b",
   "metadata": {},
   "outputs": [
    {
     "name": "stderr",
     "output_type": "stream",
     "text": [
      "c:\\Users\\david.haslacher\\AppData\\Local\\miniconda3\\envs\\sdmxlab\\Lib\\site-packages\\urllib3\\connectionpool.py:1097: InsecureRequestWarning: Unverified HTTPS request is being made to host 'david.sdmx.solutions'. Adding certificate verification is strongly advised. See: https://urllib3.readthedocs.io/en/latest/advanced-usage.html#tls-warnings\n",
      "  warnings.warn(\n"
     ]
    },
    {
     "name": "stdout",
     "output_type": "stream",
     "text": [
      "Resource successfully retrieved. Status code: 200.\n",
      "Response: <?xml version='1.0' encoding='UTF-8'?><message:Structure xmlns:xsi=\"http://www.w3.org/2001/XMLSchema-instance\" xmlns:xml=\"http://www.w3.org/XML/1998/namespace\" xmlns:message=\"http://www.sdmx.org/resources/sdmxml/schemas/v3_0/message\" xmlns:str=\"http://www.sdmx.org/resources/sdmxml/schemas/v3_0/structure\" xmlns:com=\"http://www.sdmx.org/resources/sdmxml/schemas/v3_0/common\"><message:Header><message:ID>IREF934485</message:ID><message:Test>false</message:Test><message:Prepared>2025-07-22T14:10:49Z</message:Prepared><message:Sender id=\"Unknown\"/><message:Receiver id=\"not_supplied\"/></message:Header><message:Structures><str:DataStructures><str:DataStructure urn=\"urn:sdmx:org.sdmx.infomodel.datastructure.DataStructure=BBK:BBK_BSBBK1(1.0)\" isExternalReference=\"false\" agencyID=\"BBK\" id=\"BBK_BSBBK1\" version=\"1.0\"><com:Name xml:lang=\"de\">Bankenstatistik, Bilanzstatistik, BISTA - Inlandsteil (MFI und Nicht-MFI-KI)</com:Name><str:DataStructureComponents><str:DimensionList urn=\"urn:sdmx:org.sdmx.infomodel.datastructure.DimensionDescriptor=BBK:BBK_BSBBK1(1.0).DimensionDescriptor\" id=\"DimensionDescriptor\"><str:Dimension urn=\"urn:sdmx:org.sdmx.infomodel.datastructure.Dimension=BBK:BBK_BSBBK1(1.0).BBK_STD_FREQ\" id=\"BBK_STD_FREQ\" position=\"1\"><str:ConceptIdentity>urn:sdmx:org.sdmx.infomodel.conceptscheme.Concept=BBK:CS_BBK_BSBBK1(1.0).BBK_STD_FREQ</str:ConceptIdentity><str:LocalRepresentation><str:Enumeration>urn:sdmx:org.sdmx.infomodel.codelist.Codelist=BBK:CL_BBK_STD_FREQ(1.0)</str:Enumeration><str:EnumerationFormat minLength=\"1\" textType=\"String\" maxLength=\"1\"/></str:LocalRepresentation></str:Dimension><str:Dimension urn=\"urn:sdmx:org.sdmx.infomodel.datastructure.Dimension=BBK:BBK_BSBBK1(1.0).BBK_STD_BBK01_KEYS\" id=\"BBK_STD_BBK01_KEYS\" position=\"2\"><str:ConceptIdentity>urn:sdmx:org.sdmx.infomodel.conceptscheme.Concept=BBK:CS_BBK_BSBBK1(1.0).BBK_STD_BBK01_KEYS</str:ConceptIdentity><str:LocalRepresentation><str:TextFormat pattern=\"[A-Z0-9]{1,10}\" textType=\"String\"/></str:LocalRepresentation></str:Dimension><str:TimeDimension urn=\"urn:sdmx:org.sdmx.infomodel.datastructure.TimeDimension=BBK:BBK_BSBBK1(1.0).TIME_PERIOD\" id=\"TIME_PERIOD\"><str:ConceptIdentity>urn:sdmx:org.sdmx.infomodel.conceptscheme.Concept=BBK:CS_BBK_BSBBK1(1.0).TIME_PERIOD</str:ConceptIdentity><str:LocalRepresentation><str:TextFormat textType=\"ObservationalTimePeriod\"/></str:LocalRepresentation></str:TimeDimension></str:DimensionList><str:AttributeList urn=\"urn:sdmx:org.sdmx.infomodel.datastructure.AttributeDescriptor=BBK:BBK_BSBBK1(1.0).AttributeDescriptor\" id=\"AttributeDescriptor\"><str:Attribute urn=\"urn:sdmx:org.sdmx.infomodel.datastructure.DataAttribute=BBK:BBK_BSBBK1(1.0).TIME_FORMAT\" usage=\"optional\" id=\"TIME_FORMAT\"><str:ConceptIdentity>urn:sdmx:org.sdmx.infomodel.conceptscheme.Concept=BBK:CS_BBK_BSBBK1(1.0).TIME_FORMAT</str:ConceptIdentity><str:LocalRepresentation><str:TextFormat textType=\"String\"/></str:LocalRepresentation><str:AttributeRelationship><str:Dimension>BBK_STD_FREQ</str:Dimension><str:Dimension>BBK_STD_BBK01_KEYS</str:Dimension></str:AttributeRelationship></str:Attribute><str:Attribute urn=\"urn:sdmx:org.sdmx.infomodel.datastructure.DataAttribute=BBK:BBK_BSBBK1(1.0).OBS_STATUS\" usage=\"optional\" id=\"OBS_STATUS\"><str:ConceptIdentity>urn:sdmx:org.sdmx.infomodel.conceptscheme.Concept=BBK:CS_BBK_BSBBK1(1.0).OBS_STATUS</str:ConceptIdentity><str:LocalRepresentation><str:Enumeration>urn:sdmx:org.sdmx.infomodel.codelist.Codelist=BBK:CL_BBK_OBS_STATUS(1.0)</str:Enumeration><str:EnumerationFormat minLength=\"1\" textType=\"String\"/></str:LocalRepresentation><str:AttributeRelationship><str:Observation/></str:AttributeRelationship><str:MeasureRelationship><str:Measure>OBS_VALUE</str:Measure></str:MeasureRelationship></str:Attribute><str:Attribute urn=\"urn:sdmx:org.sdmx.infomodel.datastructure.DataAttribute=BBK:BBK_BSBBK1(1.0).OBS_PRE_BREAK\" usage=\"optional\" id=\"OBS_PRE_BREAK\"><str:ConceptIdentity>urn:sdmx:org.sdmx.infomodel.conceptscheme.Concept=BBK:CS_BBK_BSBBK1(1.0).OBS_PRE_BREAK</str:ConceptIdentity><str:LocalRepresentation><str:TextFormat textType=\"String\"/></str:LocalRepresentation><str:AttributeRelationship><str:Observation/></str:AttributeRelationship><str:MeasureRelationship><str:Measure>OBS_VALUE</str:Measure></str:MeasureRelationship></str:Attribute><str:Attribute urn=\"urn:sdmx:org.sdmx.infomodel.datastructure.DataAttribute=BBK:BBK_BSBBK1(1.0).BBK_TITLE\" usage=\"optional\" id=\"BBK_TITLE\"><str:ConceptIdentity>urn:sdmx:org.sdmx.infomodel.conceptscheme.Concept=BBK:CS_BBK_BSBBK1(1.0).BBK_TITLE</str:ConceptIdentity><str:LocalRepresentation><str:TextFormat textType=\"String\"/></str:LocalRepresentation><str:AttributeRelationship><str:Dimension>BBK_STD_FREQ</str:Dimension><str:Dimension>BBK_STD_BBK01_KEYS</str:Dimension></str:AttributeRelationship></str:Attribute><str:Attribute urn=\"urn:sdmx:org.sdmx.infomodel.datastructure.DataAttribute=BBK:BBK_BSBBK1(1.0).BBK_UNIT\" usage=\"optional\" id=\"BBK_UNIT\"><str:ConceptIdentity>urn:sdmx:org.sdmx.infomodel.conceptscheme.Concept=BBK:CS_BBK_BSBBK1(1.0).BBK_UNIT</str:ConceptIdentity><str:LocalRepresentation><str:TextFormat textType=\"String\"/></str:LocalRepresentation><str:AttributeRelationship><str:Dimension>BBK_STD_FREQ</str:Dimension><str:Dimension>BBK_STD_BBK01_KEYS</str:Dimension></str:AttributeRelationship></str:Attribute><str:Attribute urn=\"urn:sdmx:org.sdmx.infomodel.datastructure.DataAttribute=BBK:BBK_BSBBK1(1.0).BBK_UNIT_MULT\" usage=\"mandatory\" id=\"BBK_UNIT_MULT\"><str:ConceptIdentity>urn:sdmx:org.sdmx.infomodel.conceptscheme.Concept=BBK:CS_BBK_BSBBK1(1.0).BBK_UNIT_MULT</str:ConceptIdentity><str:LocalRepresentation><str:Enumeration>urn:sdmx:org.sdmx.infomodel.codelist.Codelist=BBK:CLA_BBK_UNIT_MULT(1.0)</str:Enumeration><str:EnumerationFormat minLength=\"1\" textType=\"String\"/></str:LocalRepresentation><str:AttributeRelationship><str:Dimension>BBK_STD_FREQ</str:Dimension><str:Dimension>BBK_STD_BBK01_KEYS</str:Dimension></str:AttributeRelationship></str:Attribute><str:Attribute urn=\"urn:sdmx:org.sdmx.infomodel.datastructure.DataAttribute=BBK:BBK_BSBBK1(1.0).BBK_DECIMALS\" usage=\"mandatory\" id=\"BBK_DECIMALS\"><str:ConceptIdentity>urn:sdmx:org.sdmx.infomodel.conceptscheme.Concept=BBK:CS_BBK_BSBBK1(1.0).BBK_DECIMALS</str:ConceptIdentity><str:LocalRepresentation><str:Enumeration>urn:sdmx:org.sdmx.infomodel.codelist.Codelist=BBK:CLA_BBK_DECIMALS(1.0)</str:Enumeration><str:EnumerationFormat minLength=\"1\" textType=\"String\"/></str:LocalRepresentation><str:AttributeRelationship><str:Dimension>BBK_STD_FREQ</str:Dimension><str:Dimension>BBK_STD_BBK01_KEYS</str:Dimension></str:AttributeRelationship></str:Attribute><str:Attribute urn=\"urn:sdmx:org.sdmx.infomodel.datastructure.DataAttribute=BBK:BBK_BSBBK1(1.0).BBK_COMM_GEN\" usage=\"optional\" id=\"BBK_COMM_GEN\"><str:ConceptIdentity>urn:sdmx:org.sdmx.infomodel.conceptscheme.Concept=BBK:CS_BBK_BSBBK1(1.0).BBK_COMM_GEN</str:ConceptIdentity><str:LocalRepresentation><str:TextFormat textType=\"String\"/></str:LocalRepresentation><str:AttributeRelationship><str:Dimension>BBK_STD_FREQ</str:Dimension><str:Dimension>BBK_STD_BBK01_KEYS</str:Dimension></str:AttributeRelationship></str:Attribute><str:Attribute urn=\"urn:sdmx:org.sdmx.infomodel.datastructure.DataAttribute=BBK:BBK_BSBBK1(1.0).BBK_COMM_GEN_ENG\" usage=\"optional\" id=\"BBK_COMM_GEN_ENG\"><str:ConceptIdentity>urn:sdmx:org.sdmx.infomodel.conceptscheme.Concept=BBK:CS_BBK_BSBBK1(1.0).BBK_COMM_GEN_ENG</str:ConceptIdentity><str:LocalRepresentation><str:TextFormat textType=\"String\"/></str:LocalRepresentation><str:AttributeRelationship><str:Dimension>BBK_STD_FREQ</str:Dimension><str:Dimension>BBK_STD_BBK01_KEYS</str:Dimension></str:AttributeRelationship></str:Attribute><str:Attribute urn=\"urn:sdmx:org.sdmx.infomodel.datastructure.DataAttribute=BBK:BBK_BSBBK1(1.0).BBK_COMM_SRC\" usage=\"optional\" id=\"BBK_COMM_SRC\"><str:ConceptIdentity>urn:sdmx:org.sdmx.infomodel.conceptscheme.Concept=BBK:CS_BBK_BSBBK1(1.0).BBK_COMM_SRC</str:ConceptIdentity><str:LocalRepresentation><str:TextFormat textType=\"String\"/></str:LocalRepresentation><str:AttributeRelationship><str:Dimension>BBK_STD_FREQ</str:Dimension><str:Dimension>BBK_STD_BBK01_KEYS</str:Dimension></str:AttributeRelationship></str:Attribute><str:Attribute urn=\"urn:sdmx:org.sdmx.infomodel.datastructure.DataAttribute=BBK:BBK_BSBBK1(1.0).BBK_COMM_SRC_ENG\" usage=\"optional\" id=\"BBK_COMM_SRC_ENG\"><str:ConceptIdentity>urn:sdmx:org.sdmx.infomodel.conceptscheme.Concept=BBK:CS_BBK_BSBBK1(1.0).BBK_COMM_SRC_ENG</str:ConceptIdentity><str:LocalRepresentation><str:TextFormat textType=\"String\"/></str:LocalRepresentation><str:AttributeRelationship><str:Dimension>BBK_STD_FREQ</str:Dimension><str:Dimension>BBK_STD_BBK01_KEYS</str:Dimension></str:AttributeRelationship></str:Attribute><str:Attribute urn=\"urn:sdmx:org.sdmx.infomodel.datastructure.DataAttribute=BBK:BBK_BSBBK1(1.0).BBK_TITLE_ENG\" usage=\"optional\" id=\"BBK_TITLE_ENG\"><str:ConceptIdentity>urn:sdmx:org.sdmx.infomodel.conceptscheme.Concept=BBK:CS_BBK_BSBBK1(1.0).BBK_TITLE_ENG</str:ConceptIdentity><str:LocalRepresentation><str:TextFormat textType=\"String\"/></str:LocalRepresentation><str:AttributeRelationship><str:Dimension>BBK_STD_FREQ</str:Dimension><str:Dimension>BBK_STD_BBK01_KEYS</str:Dimension></str:AttributeRelationship></str:Attribute><str:Attribute urn=\"urn:sdmx:org.sdmx.infomodel.datastructure.DataAttribute=BBK:BBK_BSBBK1(1.0).BBK_COMM_METH\" usage=\"optional\" id=\"BBK_COMM_METH\"><str:ConceptIdentity>urn:sdmx:org.sdmx.infomodel.conceptscheme.Concept=BBK:CS_BBK_BSBBK1(1.0).BBK_COMM_METH</str:ConceptIdentity><str:LocalRepresentation><str:TextFormat textType=\"String\"/></str:LocalRepresentation><str:AttributeRelationship><str:Dimension>BBK_STD_FREQ</str:Dimension><str:Dimension>BBK_STD_BBK01_KEYS</str:Dimension></str:AttributeRelationship></str:Attribute><str:Attribute urn=\"urn:sdmx:org.sdmx.infomodel.datastructure.DataAttribute=BBK:BBK_BSBBK1(1.0).BBK_COMM_METH_ENG\" usage=\"optional\" id=\"BBK_COMM_METH_ENG\"><str:ConceptIdentity>urn:sdmx:org.sdmx.infomodel.conceptscheme.Concept=BBK:CS_BBK_BSBBK1(1.0).BBK_COMM_METH_ENG</str:ConceptIdentity><str:LocalRepresentation><str:TextFormat textType=\"String\"/></str:LocalRepresentation><str:AttributeRelationship><str:Dimension>BBK_STD_FREQ</str:Dimension><str:Dimension>BBK_STD_BBK01_KEYS</str:Dimension></str:AttributeRelationship></str:Attribute><str:Attribute urn=\"urn:sdmx:org.sdmx.infomodel.datastructure.DataAttribute=BBK:BBK_BSBBK1(1.0).DOKUHINWEIS\" usage=\"optional\" id=\"DOKUHINWEIS\"><str:ConceptIdentity>urn:sdmx:org.sdmx.infomodel.conceptscheme.Concept=BBK:CS_BBK_BSBBK1(1.0).DOKUHINWEIS</str:ConceptIdentity><str:LocalRepresentation><str:TextFormat textType=\"String\"/></str:LocalRepresentation><str:AttributeRelationship><str:Dimension>BBK_STD_FREQ</str:Dimension><str:Dimension>BBK_STD_BBK01_KEYS</str:Dimension></str:AttributeRelationship></str:Attribute><str:Attribute urn=\"urn:sdmx:org.sdmx.infomodel.datastructure.DataAttribute=BBK:BBK_BSBBK1(1.0).PUBLIKATION\" usage=\"optional\" id=\"PUBLIKATION\"><str:ConceptIdentity>urn:sdmx:org.sdmx.infomodel.conceptscheme.Concept=BBK:CS_BBK_BSBBK1(1.0).PUBLIKATION</str:ConceptIdentity><str:LocalRepresentation><str:TextFormat textType=\"String\"/></str:LocalRepresentation><str:AttributeRelationship><str:Dimension>BBK_STD_FREQ</str:Dimension><str:Dimension>BBK_STD_BBK01_KEYS</str:Dimension></str:AttributeRelationship></str:Attribute><str:Attribute urn=\"urn:sdmx:org.sdmx.infomodel.datastructure.DataAttribute=BBK:BBK_BSBBK1(1.0).VERAENDERUNGSREIHE\" usage=\"optional\" id=\"VERAENDERUNGSREIHE\"><str:ConceptIdentity>urn:sdmx:org.sdmx.infomodel.conceptscheme.Concept=BBK:CS_BBK_BSBBK1(1.0).VERAENDERUNGSREIHE</str:ConceptIdentity><str:LocalRepresentation><str:TextFormat textType=\"String\"/></str:LocalRepresentation><str:AttributeRelationship><str:Dimension>BBK_STD_FREQ</str:Dimension><str:Dimension>BBK_STD_BBK01_KEYS</str:Dimension></str:AttributeRelationship></str:Attribute><str:Attribute urn=\"urn:sdmx:org.sdmx.infomodel.datastructure.DataAttribute=BBK:BBK_BSBBK1(1.0).ANWAHLPOSITIONEN\" usage=\"optional\" id=\"ANWAHLPOSITIONEN\"><str:ConceptIdentity>urn:sdmx:org.sdmx.infomodel.conceptscheme.Concept=BBK:CS_BBK_BSBBK1(1.0).ANWAHLPOSITIONEN</str:ConceptIdentity><str:LocalRepresentation><str:TextFormat textType=\"String\"/></str:LocalRepresentation><str:AttributeRelationship><str:Dimension>BBK_STD_FREQ</str:Dimension><str:Dimension>BBK_STD_BBK01_KEYS</str:Dimension></str:AttributeRelationship></str:Attribute><str:Attribute urn=\"urn:sdmx:org.sdmx.infomodel.datastructure.DataAttribute=BBK:BBK_BSBBK1(1.0).WEB_CATEGORY\" usage=\"optional\" id=\"WEB_CATEGORY\"><str:ConceptIdentity>urn:sdmx:org.sdmx.infomodel.conceptscheme.Concept=BBK:CS_BBK_BSBBK1(1.0).WEB_CATEGORY</str:ConceptIdentity><str:LocalRepresentation><str:TextFormat textType=\"String\"/></str:LocalRepresentation><str:AttributeRelationship><str:Dimension>BBK_STD_FREQ</str:Dimension><str:Dimension>BBK_STD_BBK01_KEYS</str:Dimension></str:AttributeRelationship></str:Attribute><str:Attribute urn=\"urn:sdmx:org.sdmx.infomodel.datastructure.DataAttribute=BBK:BBK_BSBBK1(1.0).BBK_GRAPHTITLE\" usage=\"optional\" id=\"BBK_GRAPHTITLE\"><str:ConceptIdentity>urn:sdmx:org.sdmx.infomodel.conceptscheme.Concept=BBK:CS_BBK_BSBBK1(1.0).BBK_GRAPHTITLE</str:ConceptIdentity><str:LocalRepresentation><str:TextFormat textType=\"String\"/></str:LocalRepresentation><str:AttributeRelationship><str:Dimension>BBK_STD_FREQ</str:Dimension><str:Dimension>BBK_STD_BBK01_KEYS</str:Dimension></str:AttributeRelationship></str:Attribute><str:Attribute urn=\"urn:sdmx:org.sdmx.infomodel.datastructure.DataAttribute=BBK:BBK_BSBBK1(1.0).BBK_GRAPHTITLE_ENG\" usage=\"optional\" id=\"BBK_GRAPHTITLE_ENG\"><str:ConceptIdentity>urn:sdmx:org.sdmx.infomodel.conceptscheme.Concept=BBK:CS_BBK_BSBBK1(1.0).BBK_GRAPHTITLE_ENG</str:ConceptIdentity><str:LocalRepresentation><str:TextFormat textType=\"String\"/></str:LocalRepresentation><str:AttributeRelationship><str:Dimension>BBK_STD_FREQ</str:Dimension><str:Dimension>BBK_STD_BBK01_KEYS</str:Dimension></str:AttributeRelationship></str:Attribute><str:Attribute urn=\"urn:sdmx:org.sdmx.infomodel.datastructure.DataAttribute=BBK:BBK_BSBBK1(1.0).BBK_GRAPHPOS\" usage=\"optional\" id=\"BBK_GRAPHPOS\"><str:ConceptIdentity>urn:sdmx:org.sdmx.infomodel.conceptscheme.Concept=BBK:CS_BBK_BSBBK1(1.0).BBK_GRAPHPOS</str:ConceptIdentity><str:LocalRepresentation><str:TextFormat textType=\"String\"/></str:LocalRepresentation><str:AttributeRelationship><str:Dimension>BBK_STD_FREQ</str:Dimension><str:Dimension>BBK_STD_BBK01_KEYS</str:Dimension></str:AttributeRelationship></str:Attribute><str:Attribute urn=\"urn:sdmx:org.sdmx.infomodel.datastructure.DataAttribute=BBK:BBK_BSBBK1(1.0).BBK_ID\" usage=\"optional\" id=\"BBK_ID\"><str:ConceptIdentity>urn:sdmx:org.sdmx.infomodel.conceptscheme.Concept=BBK:CS_BBK_BSBBK1(1.0).BBK_ID</str:ConceptIdentity><str:LocalRepresentation><str:TextFormat textType=\"String\"/></str:LocalRepresentation><str:AttributeRelationship><str:Dimension>BBK_STD_FREQ</str:Dimension><str:Dimension>BBK_STD_BBK01_KEYS</str:Dimension></str:AttributeRelationship></str:Attribute><str:Attribute urn=\"urn:sdmx:org.sdmx.infomodel.datastructure.DataAttribute=BBK:BBK_BSBBK1(1.0).BBK_EURO\" usage=\"optional\" id=\"BBK_EURO\"><str:ConceptIdentity>urn:sdmx:org.sdmx.infomodel.conceptscheme.Concept=BBK:CS_BBK_BSBBK1(1.0).BBK_EURO</str:ConceptIdentity><str:LocalRepresentation><str:TextFormat textType=\"String\"/></str:LocalRepresentation><str:AttributeRelationship><str:Observation/></str:AttributeRelationship><str:MeasureRelationship><str:Measure>OBS_VALUE</str:Measure></str:MeasureRelationship></str:Attribute><str:Attribute urn=\"urn:sdmx:org.sdmx.infomodel.datastructure.DataAttribute=BBK:BBK_BSBBK1(1.0).BBK_DIFF_A\" usage=\"optional\" id=\"BBK_DIFF_A\"><str:ConceptIdentity>urn:sdmx:org.sdmx.infomodel.conceptscheme.Concept=BBK:CS_BBK_BSBBK1(1.0).BBK_DIFF_A</str:ConceptIdentity><str:LocalRepresentation><str:TextFormat textType=\"String\"/></str:LocalRepresentation><str:AttributeRelationship><str:Observation/></str:AttributeRelationship><str:MeasureRelationship><str:Measure>OBS_VALUE</str:Measure></str:MeasureRelationship></str:Attribute><str:Attribute urn=\"urn:sdmx:org.sdmx.infomodel.datastructure.DataAttribute=BBK:BBK_BSBBK1(1.0).BBK_DIFF\" usage=\"optional\" id=\"BBK_DIFF\"><str:ConceptIdentity>urn:sdmx:org.sdmx.infomodel.conceptscheme.Concept=BBK:CS_BBK_BSBBK1(1.0).BBK_DIFF</str:ConceptIdentity><str:LocalRepresentation><str:TextFormat textType=\"String\"/></str:LocalRepresentation><str:AttributeRelationship><str:Observation/></str:AttributeRelationship><str:MeasureRelationship><str:Measure>OBS_VALUE</str:Measure></str:MeasureRelationship></str:Attribute><str:Attribute urn=\"urn:sdmx:org.sdmx.infomodel.datastructure.DataAttribute=BBK:BBK_BSBBK1(1.0).BBK_DIFF_Y_A\" usage=\"optional\" id=\"BBK_DIFF_Y_A\"><str:ConceptIdentity>urn:sdmx:org.sdmx.infomodel.conceptscheme.Concept=BBK:CS_BBK_BSBBK1(1.0).BBK_DIFF_Y_A</str:ConceptIdentity><str:LocalRepresentation><str:TextFormat textType=\"String\"/></str:LocalRepresentation><str:AttributeRelationship><str:Observation/></str:AttributeRelationship><str:MeasureRelationship><str:Measure>OBS_VALUE</str:Measure></str:MeasureRelationship></str:Attribute><str:Attribute urn=\"urn:sdmx:org.sdmx.infomodel.datastructure.DataAttribute=BBK:BBK_BSBBK1(1.0).BBK_DIFF_Y\" usage=\"optional\" id=\"BBK_DIFF_Y\"><str:ConceptIdentity>urn:sdmx:org.sdmx.infomodel.conceptscheme.Concept=BBK:CS_BBK_BSBBK1(1.0).BBK_DIFF_Y</str:ConceptIdentity><str:LocalRepresentation><str:TextFormat textType=\"String\"/></str:LocalRepresentation><str:AttributeRelationship><str:Observation/></str:AttributeRelationship><str:MeasureRelationship><str:Measure>OBS_VALUE</str:Measure></str:MeasureRelationship></str:Attribute><str:Attribute urn=\"urn:sdmx:org.sdmx.infomodel.datastructure.DataAttribute=BBK:BBK_BSBBK1(1.0).BBK_UMR\" usage=\"optional\" id=\"BBK_UMR\"><str:ConceptIdentity>urn:sdmx:org.sdmx.infomodel.conceptscheme.Concept=BBK:CS_BBK_BSBBK1(1.0).BBK_UMR</str:ConceptIdentity><str:LocalRepresentation><str:TextFormat textType=\"String\"/></str:LocalRepresentation><str:AttributeRelationship><str:Dimension>BBK_STD_FREQ</str:Dimension><str:Dimension>BBK_STD_BBK01_KEYS</str:Dimension></str:AttributeRelationship></str:Attribute><str:Attribute urn=\"urn:sdmx:org.sdmx.infomodel.datastructure.DataAttribute=BBK:BBK_BSBBK1(1.0).BBK_UMR_ENG\" usage=\"optional\" id=\"BBK_UMR_ENG\"><str:ConceptIdentity>urn:sdmx:org.sdmx.infomodel.conceptscheme.Concept=BBK:CS_BBK_BSBBK1(1.0).BBK_UMR_ENG</str:ConceptIdentity><str:LocalRepresentation><str:TextFormat textType=\"String\"/></str:LocalRepresentation><str:AttributeRelationship><str:Dimension>BBK_STD_FREQ</str:Dimension><str:Dimension>BBK_STD_BBK01_KEYS</str:Dimension></str:AttributeRelationship></str:Attribute></str:AttributeList><str:MeasureList urn=\"urn:sdmx:org.sdmx.infomodel.datastructure.MeasureDescriptor=BBK:BBK_BSBBK1(1.0).MeasureDescriptor\" id=\"MeasureDescriptor\"><str:Measure urn=\"urn:sdmx:org.sdmx.infomodel.datastructure.Measure=BBK:BBK_BSBBK1(1.0).OBS_VALUE\" usage=\"optional\" id=\"OBS_VALUE\"><str:ConceptIdentity>urn:sdmx:org.sdmx.infomodel.conceptscheme.Concept=BBK:CS_BBK_BSBBK1(1.0).OBS_VALUE</str:ConceptIdentity><str:LocalRepresentation><str:TextFormat minLength=\"1\" textType=\"String\"/></str:LocalRepresentation></str:Measure></str:MeasureList></str:DataStructureComponents></str:DataStructure></str:DataStructures></message:Structures></message:Structure>\n"
     ]
    },
    {
     "name": "stderr",
     "output_type": "stream",
     "text": [
      "c:\\Users\\david.haslacher\\AppData\\Local\\miniconda3\\envs\\sdmxlab\\Lib\\site-packages\\urllib3\\connectionpool.py:1097: InsecureRequestWarning: Unverified HTTPS request is being made to host 'david.sdmx.solutions'. Adding certificate verification is strongly advised. See: https://urllib3.readthedocs.io/en/latest/advanced-usage.html#tls-warnings\n",
      "  warnings.warn(\n"
     ]
    },
    {
     "name": "stdout",
     "output_type": "stream",
     "text": [
      "Resource successfully retrieved. Status code: 200.\n",
      "Response: <?xml version='1.0' encoding='UTF-8'?><message:Structure xmlns:xsi=\"http://www.w3.org/2001/XMLSchema-instance\" xmlns:xml=\"http://www.w3.org/XML/1998/namespace\" xmlns:message=\"http://www.sdmx.org/resources/sdmxml/schemas/v3_0/message\" xmlns:str=\"http://www.sdmx.org/resources/sdmxml/schemas/v3_0/structure\" xmlns:com=\"http://www.sdmx.org/resources/sdmxml/schemas/v3_0/common\"><message:Header><message:ID>IREF934486</message:ID><message:Test>false</message:Test><message:Prepared>2025-07-22T14:10:49Z</message:Prepared><message:Sender id=\"Unknown\"/><message:Receiver id=\"not_supplied\"/></message:Header><message:Structures><str:DataStructures><str:DataStructure urn=\"urn:sdmx:org.sdmx.infomodel.datastructure.DataStructure=HMS:DS_HMS_BISTA(1.0)\" isExternalReference=\"false\" agencyID=\"HMS\" id=\"DS_HMS_BISTA\" version=\"1.0\"><com:Name xml:lang=\"en\">Complete BISTA data</com:Name><str:DataStructureComponents><str:DimensionList urn=\"urn:sdmx:org.sdmx.infomodel.datastructure.DimensionDescriptor=HMS:DS_HMS_BISTA(1.0).DimensionDescriptor\" id=\"DimensionDescriptor\"><str:Dimension urn=\"urn:sdmx:org.sdmx.infomodel.datastructure.Dimension=HMS:DS_HMS_BISTA(1.0).ACIP_DENOMINATION\" id=\"ACIP_DENOMINATION\" position=\"1\"><str:ConceptIdentity>urn:sdmx:org.sdmx.infomodel.conceptscheme.Concept=HMS:HMS_CONCEPTS(1.0).ACIP_DENOMINATION</str:ConceptIdentity><str:LocalRepresentation><str:Enumeration>urn:sdmx:org.sdmx.infomodel.codelist.Codelist=BBK:CL_BBK_ACIP_DENOMINATION(1.0)</str:Enumeration><str:EnumerationFormat textType=\"String\"/></str:LocalRepresentation></str:Dimension><str:Dimension urn=\"urn:sdmx:org.sdmx.infomodel.datastructure.Dimension=HMS:DS_HMS_BISTA(1.0).BS_REF_SEC\" id=\"BS_REF_SEC\" position=\"2\"><str:ConceptIdentity>urn:sdmx:org.sdmx.infomodel.conceptscheme.Concept=HMS:HMS_CONCEPTS(1.0).BS_REF_SEC</str:ConceptIdentity><str:LocalRepresentation><str:Enumeration>urn:sdmx:org.sdmx.infomodel.codelist.Codelist=BBK:CL_BBK_BS_REF_SEC(1.0)</str:Enumeration><str:EnumerationFormat textType=\"String\"/></str:LocalRepresentation></str:Dimension><str:Dimension urn=\"urn:sdmx:org.sdmx.infomodel.datastructure.Dimension=HMS:DS_HMS_BISTA(1.0).BAID_DOM\" id=\"BAID_DOM\" position=\"3\"><str:ConceptIdentity>urn:sdmx:org.sdmx.infomodel.conceptscheme.Concept=HMS:HMS_CONCEPTS(1.0).BAID_DOM</str:ConceptIdentity><str:LocalRepresentation><str:Enumeration>urn:sdmx:org.sdmx.infomodel.codelist.Codelist=HMS:CL_HMS_BAID_DOM(1.0)</str:Enumeration><str:EnumerationFormat textType=\"String\"/></str:LocalRepresentation></str:Dimension><str:Dimension urn=\"urn:sdmx:org.sdmx.infomodel.datastructure.Dimension=HMS:DS_HMS_BISTA(1.0).FREQUENCY\" id=\"FREQUENCY\" position=\"4\"><str:ConceptIdentity>urn:sdmx:org.sdmx.infomodel.conceptscheme.Concept=HMS:HMS_CONCEPTS(1.0).FREQUENCY</str:ConceptIdentity><str:LocalRepresentation><str:Enumeration>urn:sdmx:org.sdmx.infomodel.codelist.Codelist=ECB:CL_FREQ(1.0)</str:Enumeration><str:EnumerationFormat textType=\"String\"/></str:LocalRepresentation></str:Dimension><str:TimeDimension urn=\"urn:sdmx:org.sdmx.infomodel.datastructure.TimeDimension=HMS:DS_HMS_BISTA(1.0).TIME_PERIOD\" id=\"TIME_PERIOD\"><str:ConceptIdentity>urn:sdmx:org.sdmx.infomodel.conceptscheme.Concept=HMS:HMS_CONCEPTS(1.0).DATE</str:ConceptIdentity><str:LocalRepresentation><str:TextFormat textType=\"ObservationalTimePeriod\"/></str:LocalRepresentation></str:TimeDimension></str:DimensionList><str:MeasureList urn=\"urn:sdmx:org.sdmx.infomodel.datastructure.MeasureDescriptor=HMS:DS_HMS_BISTA(1.0).MeasureDescriptor\" id=\"MeasureDescriptor\"><str:Measure urn=\"urn:sdmx:org.sdmx.infomodel.datastructure.Measure=HMS:DS_HMS_BISTA(1.0).OBS_VALUE\" usage=\"optional\" id=\"OBS_VALUE\"><str:ConceptIdentity>urn:sdmx:org.sdmx.infomodel.conceptscheme.Concept=HMS:HMS_CONCEPTS(1.0).OBS_VALUE</str:ConceptIdentity></str:Measure></str:MeasureList></str:DataStructureComponents></str:DataStructure></str:DataStructures></message:Structures></message:Structure>\n",
      "Resource successfully retrieved. Status code: 200.\n",
      "Response: <?xml version='1.0' encoding='UTF-8'?><message:Structure xmlns:xsi=\"http://www.w3.org/2001/XMLSchema-instance\" xmlns:xml=\"http://www.w3.org/XML/1998/namespace\" xmlns:message=\"http://www.sdmx.org/resources/sdmxml/schemas/v3_0/message\" xmlns:str=\"http://www.sdmx.org/resources/sdmxml/schemas/v3_0/structure\" xmlns:com=\"http://www.sdmx.org/resources/sdmxml/schemas/v3_0/common\"><message:Header><message:ID>IREF934487</message:ID><message:Test>false</message:Test><message:Prepared>2025-07-22T14:10:49Z</message:Prepared><message:Sender id=\"Unknown\"/><message:Receiver id=\"not_supplied\"/></message:Header><message:Structures><str:DataStructures><str:DataStructure urn=\"urn:sdmx:org.sdmx.infomodel.datastructure.DataStructure=HMS:DS_HMS_BISTA_INPUT(1.0)\" isExternalReference=\"false\" agencyID=\"HMS\" id=\"DS_HMS_BISTA_INPUT\" version=\"1.0\"><com:Name xml:lang=\"en\">Input Data Structure Definition BISTA</com:Name><str:DataStructureComponents><str:DimensionList urn=\"urn:sdmx:org.sdmx.infomodel.datastructure.DimensionDescriptor=HMS:DS_HMS_BISTA_INPUT(1.0).DimensionDescriptor\" id=\"DimensionDescriptor\"><str:Dimension urn=\"urn:sdmx:org.sdmx.infomodel.datastructure.Dimension=HMS:DS_HMS_BISTA_INPUT(1.0).BAID_DOM\" id=\"BAID_DOM\" position=\"1\"><str:ConceptIdentity>urn:sdmx:org.sdmx.infomodel.conceptscheme.Concept=HMS:HMS_CONCEPTS(1.0).BAID_DOM</str:ConceptIdentity><str:LocalRepresentation><str:Enumeration>urn:sdmx:org.sdmx.infomodel.codelist.Codelist=HMS:CL_HMS_BAID_DOM(1.0)</str:Enumeration><str:EnumerationFormat textType=\"String\"/></str:LocalRepresentation></str:Dimension><str:Dimension urn=\"urn:sdmx:org.sdmx.infomodel.datastructure.Dimension=HMS:DS_HMS_BISTA_INPUT(1.0).YEAR\" id=\"YEAR\" position=\"2\"><str:ConceptIdentity>urn:sdmx:org.sdmx.infomodel.conceptscheme.Concept=HMS:HMS_CONCEPTS(1.0).YEAR</str:ConceptIdentity><str:LocalRepresentation><str:TextFormat isSequence=\"false\" textType=\"GregorianYear\"/></str:LocalRepresentation></str:Dimension><str:TimeDimension urn=\"urn:sdmx:org.sdmx.infomodel.datastructure.TimeDimension=HMS:DS_HMS_BISTA_INPUT(1.0).TIME_PERIOD\" id=\"TIME_PERIOD\"><str:ConceptIdentity>urn:sdmx:org.sdmx.infomodel.conceptscheme.Concept=HMS:HMS_CONCEPTS(1.0).DATE</str:ConceptIdentity><str:LocalRepresentation><str:TextFormat textType=\"ObservationalTimePeriod\"/></str:LocalRepresentation></str:TimeDimension></str:DimensionList><str:MeasureList urn=\"urn:sdmx:org.sdmx.infomodel.datastructure.MeasureDescriptor=HMS:DS_HMS_BISTA_INPUT(1.0).MeasureDescriptor\" id=\"MeasureDescriptor\"><str:Measure urn=\"urn:sdmx:org.sdmx.infomodel.datastructure.Measure=HMS:DS_HMS_BISTA_INPUT(1.0).OBS_VALUE\" usage=\"optional\" id=\"OBS_VALUE\"><str:ConceptIdentity>urn:sdmx:org.sdmx.infomodel.conceptscheme.Concept=HMS:HMS_CONCEPTS(1.0).OBS_VALUE</str:ConceptIdentity></str:Measure></str:MeasureList></str:DataStructureComponents></str:DataStructure></str:DataStructures></message:Structures></message:Structure>\n"
     ]
    },
    {
     "name": "stderr",
     "output_type": "stream",
     "text": [
      "c:\\Users\\david.haslacher\\AppData\\Local\\miniconda3\\envs\\sdmxlab\\Lib\\site-packages\\urllib3\\connectionpool.py:1097: InsecureRequestWarning: Unverified HTTPS request is being made to host 'david.sdmx.solutions'. Adding certificate verification is strongly advised. See: https://urllib3.readthedocs.io/en/latest/advanced-usage.html#tls-warnings\n",
      "  warnings.warn(\n"
     ]
    }
   ],
   "source": [
    "endpoint_base = fmr_url + \"/sdmx/v2/structure/datastructure\"\n",
    "root = etree.fromstring(dataflow.encode('utf-8'))\n",
    "\n",
    "resource_urls = []\n",
    "for dsd in root.findall(\".//str:DataStructure\", namespaces=root.nsmap):\n",
    "    attributes = {key.lower(): value for key, value in dsd.attrib.items()}\n",
    "    endpoint = f\"{endpoint_base}/{attributes['agencyid'].strip()}/{attributes['id'].strip()}/{attributes['version'].strip()}\"\n",
    "    response = requests.get(endpoint, headers=headers, auth=auth, verify=False)\n",
    "    print(f\"Resource successfully retrieved. Status code: {response.status_code}.\")\n",
    "    print(\"Response:\", response.text)"
   ]
  }
 ],
 "metadata": {
  "kernelspec": {
   "display_name": "sdmxlab",
   "language": "python",
   "name": "python3"
  },
  "language_info": {
   "codemirror_mode": {
    "name": "ipython",
    "version": 3
   },
   "file_extension": ".py",
   "mimetype": "text/x-python",
   "name": "python",
   "nbconvert_exporter": "python",
   "pygments_lexer": "ipython3",
   "version": "3.13.5"
  }
 },
 "nbformat": 4,
 "nbformat_minor": 5
}
