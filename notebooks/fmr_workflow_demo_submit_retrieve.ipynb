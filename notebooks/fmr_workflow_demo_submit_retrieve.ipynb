{
 "cells": [
  {
   "cell_type": "markdown",
   "id": "928696d4",
   "metadata": {},
   "source": [
    "## Programmatic Access: Submit and Retrieve Artifacts using the SDMX Lab\n",
    "\n",
    "This notebook demonstrates how to submit and retrieve artifacts using REST API calls to FMR running inside an SDMX Lab instance."
   ]
  },
  {
   "cell_type": "code",
   "execution_count": null,
   "id": "a3de1751",
   "metadata": {},
   "outputs": [],
   "source": [
    "from pathlib import Path\n",
    "import requests\n",
    "import certifi\n",
    "from lxml import etree\n",
    "from getpass import getpass\n",
    "from requests.auth import HTTPBasicAuth"
   ]
  },
  {
   "cell_type": "markdown",
   "id": "c4ccfe18",
   "metadata": {},
   "source": [
    "Set up your credentials for basic authorization. These will be used to authenticate REST API calls to the Lab instance."
   ]
  },
  {
   "cell_type": "code",
   "execution_count": null,
   "id": "a4427a0b",
   "metadata": {},
   "outputs": [],
   "source": [
    "user = input(\"Username: \")\n",
    "password = getpass(\"Password: \")\n",
    "auth = HTTPBasicAuth(username=user, password=password)"
   ]
  },
  {
   "cell_type": "markdown",
   "id": "b888361a",
   "metadata": {},
   "source": [
    "Specify the URL endpoint for the Lab instance. This is where the REST API calls will be sent."
   ]
  },
  {
   "cell_type": "code",
   "execution_count": null,
   "id": "703fa9cb",
   "metadata": {},
   "outputs": [],
   "source": [
    "# Define Lab instance endpoint\n",
    "# This is constructed automatically from the provided user name.\n",
    "fmr_url = f\"https://{user}.sdmx.solutions/fmr\"\n",
    "endpoint = f\"{fmr_url}/ws/secure/sdmxapi/rest\""
   ]
  },
  {
   "cell_type": "markdown",
   "id": "2d8ef397",
   "metadata": {},
   "source": [
    "### Submit a dataflow to FMR via REST-API\n",
    "\n",
    "This step demonstrates how to submit a dataflow to FMR using the REST endpoint."
   ]
  },
  {
   "cell_type": "code",
   "execution_count": null,
   "id": "36468af5",
   "metadata": {},
   "outputs": [],
   "source": [
    "# Prepare SDMX resource\n",
    "path = 'example_dataflow.xml'\n",
    "dataflow = Path(path).read_text()\n",
    "headers = {\"Content-Type\": \"application/xml\"}\n",
    "\n",
    "response = requests.post(\n",
    "    endpoint, \n",
    "    data=dataflow, \n",
    "    headers=headers, \n",
    "    auth=(user, password),\n",
    "    verify=False\n",
    ")"
   ]
  },
  {
   "cell_type": "code",
   "execution_count": null,
   "id": "67d2a0f8",
   "metadata": {},
   "outputs": [],
   "source": [
    "# Display response\n",
    "if response.status_code in [200, 201]:\n",
    "    print(\"Resource successfully created in FMR.\")\n",
    "    print(\"Response:\", response.text)\n",
    "else:\n",
    "    print(f\"Failed to create resource. Status code: {response.status_code}\")\n",
    "    print(\"Response:\", response.text)"
   ]
  },
  {
   "cell_type": "markdown",
   "id": "83bc02bc",
   "metadata": {},
   "source": [
    "### Retrieve DSDs in submitted dataflow from FMR via REST-API\n",
    "\n",
    "This step demonstrates how to retrieve the individual DSDs in the submitted dataflow from FMR using the REST endpoint."
   ]
  },
  {
   "cell_type": "code",
   "execution_count": null,
   "id": "5068b82b",
   "metadata": {},
   "outputs": [],
   "source": [
    "endpoint_base = fmr_url + \"/sdmx/v2/structure/datastructure\"\n",
    "root = etree.fromstring(dataflow.encode('utf-8'))\n",
    "\n",
    "resource_urls = []\n",
    "for dsd in root.findall(\".//str:DataStructure\", namespaces=root.nsmap):\n",
    "    attributes = {key.lower(): value for key, value in dsd.attrib.items()}\n",
    "    endpoint = f\"{endpoint_base}/{attributes['agencyid'].strip()}/{attributes['id'].strip()}/{attributes['version'].strip()}\"\n",
    "    response = requests.get(endpoint, headers=headers, auth=auth, verify=False)\n",
    "    print(f\"Resource successfully retrieved. Status code: {response.status_code}.\")\n",
    "    print(\"Response:\", response.text)"
   ]
  }
 ],
 "metadata": {
  "kernelspec": {
   "display_name": "sdmxlab",
   "language": "python",
   "name": "python3"
  },
  "language_info": {
   "codemirror_mode": {
    "name": "ipython",
    "version": 3
   },
   "file_extension": ".py",
   "mimetype": "text/x-python",
   "name": "python",
   "nbconvert_exporter": "python",
   "pygments_lexer": "ipython3",
   "version": "3.13.5"
  }
 },
 "nbformat": 4,
 "nbformat_minor": 5
}
