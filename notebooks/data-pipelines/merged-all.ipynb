{
 "cells": [
  {
   "cell_type": "markdown",
   "id": "c22aa64f",
   "metadata": {},
   "source": [
    "## Setup SDMX Lab Jupyter Notebook environment\n"
   ]
  },
  {
   "cell_type": "code",
   "execution_count": null,
   "id": "ce94d712",
   "metadata": {
    "title": "# code cell"
   },
   "outputs": [],
   "source": [
    "# Clone the repo\n",
    "#PROD\n",
    "#!git clone https://github.com/HMS-Analytical-Software/hms-sdmx-lab-notebooks.git\n",
    "#%cd hms-sdmx-lab-notebooks/notebooks/data-pipelines\n",
    "#DEV\n",
    "!git clone https://github.com/Buffett65/data-pipelines.git\n",
    "%cd data-pipelines\n",
    "root_dir=\"/content/data-pipelines\"\n",
    "\n",
    "# Install dependencies\n",
    "!pip install -r requirements.txt"
   ]
  },
  {
   "cell_type": "code",
   "execution_count": null,
   "id": "1883e7ba",
   "metadata": {},
   "outputs": [],
   "source": [
    "from pathlib import Path\n",
    "import os\n",
    "import json\n",
    "import requests\n",
    "import certifi\n",
    "from lxml import etree\n",
    "from getpass import getpass\n",
    "from requests.auth import HTTPBasicAuth\n",
    "from dataclasses import dataclass\n",
    "\n",
    "@dataclass\n",
    "class MyConfig:\n",
    "    # Load config variables\n",
    "    with open(f\"{root_dir}/config.json\") as f:\n",
    "        config = json.load(f)\n",
    "    _test = config[\"TEST\"]\n",
    "    agency = config[\"AGENCY\"]\n",
    "    flowid = config[\"FLOWID\"]\n",
    "    endpoint = config[\"ENDPOINT\"]\n",
    "    #\n",
    "    out_dir = f\"{root_dir}/data\"\n",
    "\n",
    "    headers = {\"Accept\": \"application/xml\"}  # we'll ask for SDMX-ML data via ?format=sdmx-3.0\n",
    "\n",
    "cfg = MyConfig()"
   ]
  },
  {
   "cell_type": "markdown",
   "id": "1a07b723",
   "metadata": {},
   "source": [
    "Set up your credentials for basic authorization. These will be used to authenticate REST API calls to the Lab instance."
   ]
  },
  {
   "cell_type": "code",
   "execution_count": null,
   "id": "8da37e3c",
   "metadata": {},
   "outputs": [],
   "source": [
    "# Obtain Lab instance endpoint\n",
    "sdmx_lab=True # if True, need to use 'auth' on *ALL* api calls, not just on POST calls.\n",
    "\n",
    "lab_url = os.environ.get(\"USER_LAB\") or input(\"Enter URL of your Lab space: \")\n",
    "fmr_url = f\"{lab_url}/fmr\"\n",
    "\n",
    "# Obtain authentication credentials\n",
    "user = os.environ.get(\"USER_ID\") or input(\"Username: \")\n",
    "password = os.environ.get(\"PASS\") or input(\"Password: \")\n",
    "auth = HTTPBasicAuth(username=user, password=password)\n",
    "\n",
    "print(f\"User: {user}\")\n",
    "print(f\"password: {password}\")\n",
    "print(f\"Lab URL: {lab_url}\")\n",
    "print(f\"FMR URL: {fmr_url}\")"
   ]
  },
  {
   "cell_type": "markdown",
   "id": "22016f39",
   "metadata": {
    "lines_to_next_cell": 0
   },
   "source": [
    "## SDMX API\n"
   ]
  },
  {
   "cell_type": "markdown",
   "id": "94ae6f41",
   "metadata": {
    "lines_to_next_cell": 0
   },
   "source": [
    "### Setup Environment for SDMX API examples and exercises.\n"
   ]
  },
  {
   "cell_type": "code",
   "execution_count": null,
   "id": "0f0ab6b8",
   "metadata": {
    "lines_to_next_cell": 1,
    "title": "# code cell"
   },
   "outputs": [],
   "source": [
    "\n",
    "import requests, urllib.parse as up\n",
    "import xml.etree.ElementTree as ET\n",
    "from typing import Dict, Any, List, Tuple, Optional\n",
    "import json\n",
    "import io\n",
    "import os\n",
    "import pandas as pd\n",
    "\n",
    "\n",
    "\n",
    "def get_csv(url, headers=None, params=None):\n",
    "    r = requests.get(url, params=params, headers=headers, timeout=60)\n",
    "    r.raise_for_status()\n",
    "    # (optional but safe) ensure correct decoding before you touch .text\n",
    "    # SDMX-CSV is UTF-8, so force UTF-8 to avoid stray characters\n",
    "    r.encoding = \"utf-8\"\n",
    "    return r"
   ]
  },
  {
   "cell_type": "markdown",
   "id": "338afc65",
   "metadata": {
    "lines_to_next_cell": 0
   },
   "source": [
    "### EXAMPLE: SDMX REST API - get structure\n",
    "###          Scenario: get all dataflows, return JSON\n"
   ]
  },
  {
   "cell_type": "markdown",
   "id": "2af47fd3",
   "metadata": {
    "lines_to_next_cell": 0
   },
   "source": [
    "### Version A: bespoke code\n"
   ]
  },
  {
   "cell_type": "code",
   "execution_count": null,
   "id": "8e6441f7",
   "metadata": {
    "title": "# code cell"
   },
   "outputs": [],
   "source": [
    "# Retrieve all dataflows, based on config parameters.\n",
    "# Example --- sdmx-json structure call\n",
    "\n",
    "# Make an API structure call requesting all dataflows     \n",
    "r = requests.get(f\"{cfg.endpoint}/structure/dataflow/*/*/*\", \n",
    "                 params={\"format\":\"sdmx-json\"}, \n",
    "                 headers=None, \n",
    "                 timeout=60)\n",
    "r.raise_for_status()\n",
    "\n",
    "flows=r.json()\n",
    "\n",
    "# Create List of all dataflows (catalog)\n",
    "dfs = []\n",
    "for flow in (flows.get(\"data\", {}).get(\"dataflows\",{})):\n",
    "    name = flow.get(\"name\")\n",
    "    agency = flow.get('agencyID')\n",
    "    id = flow.get(\"id\")\n",
    "    version = flow.get('version')\n",
    "    description = flow.get(\"description\")\n",
    "    dfs.append({\"agency\": agency, \"id\": id, \"version\": version, \"name\": name, \"description\": description})\n",
    "\n",
    "dfs[:10]  # peek"
   ]
  },
  {
   "cell_type": "markdown",
   "id": "49ab8022",
   "metadata": {
    "lines_to_next_cell": 0
   },
   "source": [
    "### Version B: using pysdmx\n"
   ]
  },
  {
   "cell_type": "code",
   "execution_count": null,
   "id": "dd5062c3",
   "metadata": {
    "lines_to_next_cell": 2,
    "title": "# code cell"
   },
   "outputs": [],
   "source": [
    "\n",
    "from pysdmx.api.fmr import RegistryClient\n",
    "fmr_client=RegistryClient(f\"{cfg.endpoint}\")\n",
    "dfs=fmr_client.get_dataflows(\"*\",\"*\",\"*\")\n",
    "\n",
    "dfs[:10]  # peek"
   ]
  },
  {
   "cell_type": "markdown",
   "id": "70bf9d09",
   "metadata": {
    "lines_to_next_cell": 0
   },
   "source": [
    "### EXAMPLE: SDMX REST API - get structure\n",
    "###          Scenario: get all dataflows, return SDMX-ML\n"
   ]
  },
  {
   "cell_type": "markdown",
   "id": "e1da25c3",
   "metadata": {
    "lines_to_next_cell": 0
   },
   "source": [
    "### Version A: bespoke code\n"
   ]
  },
  {
   "cell_type": "code",
   "execution_count": null,
   "id": "437f3aa9",
   "metadata": {
    "lines_to_next_cell": 0,
    "title": "# code cell"
   },
   "outputs": [],
   "source": [
    "\n",
    "# 1) Make an API structure call, retrieve all dataflows (catalog)\n",
    "\n",
    "# Call an SMDX API endpoint requesting an SMDX-ML response.\n",
    "flows = requests.get(f\"{cfg.endpoint}/structure/dataflow/{cfg.agency}/*/*\", \n",
    "                     params={\"format\":\"sdmx-3.0\", \"prettyPrint\":True}, \n",
    "                     headers={\"Accept\": \"application/xml\"}, \n",
    "                     timeout=60)\n",
    "r.raise_for_status()\n",
    "\n",
    "# Parse the XML and return its ElementTree and namespaces.\n",
    "root = ET.fromstring(r.content) \n",
    "\n",
    "# Extract all namespaces declared in the document\n",
    "namespaces = dict([\n",
    "    node for _, node in ET.iterparse(\n",
    "            # We need a bytes stream for iterparse\n",
    "            io.BytesIO(r.content),\n",
    "            events=['start-ns']\n",
    "    )\n",
    "])\n",
    "\n",
    "# Create List of all dataflows (catalog)\n",
    "dfs = []\n",
    "for flow in flows.findall(\".//str:Dataflow\", namespaces):\n",
    "    agency = flow.attrib.get('agencyID')\n",
    "    id = flow.attrib.get('id')\n",
    "    version = flow.attrib.get('version')\n",
    "    name_elem = flow.find(\"com:Name\", namespaces)\n",
    "    name = name_elem.text if name_elem is not None else None\n",
    "    description_elem = flow.find(\"com:Description\", namespaces)\n",
    "    description = description_elem.text if description_elem is not None else None\n",
    "    dfs.append({\"agency\": agency, \"id\": id, \"version\": version, \"name\": name, \"description\": description})\n",
    "\n",
    "dfs[:10]  # peek"
   ]
  },
  {
   "cell_type": "markdown",
   "id": "e0cccd7c",
   "metadata": {
    "lines_to_next_cell": 0
   },
   "source": [
    "### Version B: using pysdmx\n"
   ]
  },
  {
   "cell_type": "code",
   "execution_count": null,
   "id": "39875597",
   "metadata": {
    "title": "# code cell"
   },
   "outputs": [],
   "source": [
    "\n",
    "from pysdmx.api.fmr import RegistryClient\n",
    "fmr_client=RegistryClient(f\"{cfg.endpoint}\")\n",
    "dfs=fmr_client.get_dataflows(\"*\",\"*\",\"*\")\n",
    "\n",
    "dfs[:10]  # peek"
   ]
  },
  {
   "cell_type": "markdown",
   "id": "1b1eff3b",
   "metadata": {
    "lines_to_next_cell": 0
   },
   "source": [
    "### EXAMPLE: SDMX REST API - get data\n",
    "###          Scenario: get dataset, return CSV, save to file.\n"
   ]
  },
  {
   "cell_type": "code",
   "execution_count": null,
   "id": "dc590b8a",
   "metadata": {
    "title": "# code cell"
   },
   "outputs": [],
   "source": [
    "# Ensure output directory exists\n",
    "os.makedirs(cfg.out_dir, exist_ok=True)\n",
    "\n",
    "# Build filename from flowid\n",
    "filename = f\"{flowid}.csv\"\n",
    "out_path = os.path.join(cfg.out_dir, filename)\n",
    "\n",
    "# Make an API data call, retrieve the latest 1 observation, in csv format, for the provided agency/dataflow/version\n",
    "resp = requests.get(cfg.endpoint}/data/dataflow/{agency}/{flowid}/*\",\n",
    "                    params={\"format\":\"sdmx-csv\", \"lastNobservations\":\"1\"}, \n",
    "                    headers={\"Accept\": \"application/text\"},\n",
    "                    timeout=60)\n",
    "\n",
    "resp.raise_for_status()\n",
    "\n",
    "# (optional but safe) ensure correct decoding before you touch .text\n",
    "# SDMX-CSV is UTF-8, so force UTF-8 to avoid stray characters\n",
    "resp.encoding = \"utf-8\"\n",
    "\n",
    "# Get csv into a pandas dataframe\n",
    "dataset = pd.read_csv(\n",
    "    io.StringIO(resp.text),\n",
    "    dtype=str,              # start as strings; we’ll coerce precisely below\n",
    "    keep_default_na=True,   # empty fields -> NaN\n",
    ")\n",
    "\n",
    "# 1st 10 lines of the Pandas Dataframe \n",
    "dataset.head(10)    "
   ]
  },
  {
   "cell_type": "markdown",
   "id": "b9e7718a",
   "metadata": {
    "lines_to_next_cell": 0
   },
   "source": [
    "### Drop the first column of a pandas DataFrame and save to CSV.\n"
   ]
  },
  {
   "cell_type": "code",
   "execution_count": null,
   "id": "f042be7f",
   "metadata": {
    "title": "(code cell)"
   },
   "outputs": [],
   "source": [
    "\n",
    "# Drop the first column\n",
    "dataset_out = dataset.drop(dataset.columns[0], axis=1)\n",
    "\n",
    "# Save to CSV\n",
    "dataset_out.to_csv(out_path, index=False)\n",
    "\n",
    "print(f\"Saved {dataset.shape[0]} rows x {dataset_out.shape[1]} cols to {out_path}\")"
   ]
  },
  {
   "cell_type": "markdown",
   "id": "fbbbdba2",
   "metadata": {
    "lines_to_next_cell": 0
   },
   "source": [
    "Data Processing Services (FMR)\n",
    "\n",
    "This notebook demonstrates using REST API calls to FMR running inside an SDMX Lab instance."
   ]
  },
  {
   "cell_type": "markdown",
   "id": "f4dcc0b0",
   "metadata": {},
   "source": [
    "### Submitting structural metadata to FMR\n"
   ]
  },
  {
   "cell_type": "code",
   "execution_count": null,
   "id": "4937ad02",
   "metadata": {
    "lines_to_next_cell": 2,
    "title": "(code)"
   },
   "outputs": [],
   "source": [
    "from pathlib import Path\n",
    "import json\n",
    "import requests\n",
    "import certifi\n",
    "from lxml import etree\n",
    "from getpass import getpass\n",
    "from requests.auth import HTTPBasicAuth"
   ]
  },
  {
   "cell_type": "markdown",
   "id": "167cac7b",
   "metadata": {},
   "source": [
    "## Setup FMR Structures for the data pipelines session\n",
    "\n",
    "ie. Load all data pipelines structures to FMR via REST-API\n",
    "\n",
    "This step demonstrates how to submit a file of structures to FMR using the REST endpoint."
   ]
  },
  {
   "cell_type": "code",
   "execution_count": null,
   "id": "fde9fc62",
   "metadata": {
    "title": "(code)"
   },
   "outputs": [],
   "source": [
    "# Prepare SDMX structural metadata artefacts\n",
    "endpoint = f\"{fmr_url}/ws/secure/sdmxapi/rest\"\n",
    "\n",
    "path = f\"{root_dir}/structures/AllStructures.json\"\n",
    "payload = open(path, \"rb\")\n",
    "\n",
    "headers = {\"Content-Type\": \"application/json\"}\n",
    "\n",
    "# Submit and upload all structures to FMR\n",
    "response = requests.post(\n",
    "    endpoint, \n",
    "    data=payload, \n",
    "    headers=headers, \n",
    "    auth=(user, password),\n",
    "    verify=False\n",
    ")"
   ]
  },
  {
   "cell_type": "code",
   "execution_count": null,
   "id": "e3d84875",
   "metadata": {
    "title": "(code)"
   },
   "outputs": [],
   "source": [
    "# Display response\n",
    "if response.status_code in [200, 201]:\n",
    "    print(\"Resource successfully created in FMR.\")\n",
    "    print(\"Response:\", response.text)\n",
    "else:\n",
    "    print(f\"Failed to create resource. Status code: {response.status_code}\")\n",
    "    print(\"Response:\", response.text)"
   ]
  },
  {
   "cell_type": "markdown",
   "id": "f85467cc",
   "metadata": {},
   "source": [
    "### Retrieve DSDs in submitted dataflow from FMR via REST-API\n",
    "\n",
    "This step demonstrates how to retrieve the individual DSDs in the submitted dataflow from FMR using the REST endpoint."
   ]
  },
  {
   "cell_type": "markdown",
   "id": "597400d5",
   "metadata": {},
   "source": [
    "### Data Validation\n",
    "\n",
    "Validate files against structures in registry - do they pass FMR's 9 validation rules?\n",
    "refer to and run the Jupyter Notebook in SDMX Lab which was provided from SDMX.IO learning resources materials.\n",
    "\n"
   ]
  },
  {
   "cell_type": "markdown",
   "id": "84e34e7d",
   "metadata": {},
   "source": [
    "### Transcoding\n",
    "\n",
    "Recode files - remap and change coding, change shape using Structure Maps and Representation Maps.\n",
    "\n",
    "Refer to SDMX.IO learning resources materials. NB: need adaptation to run in SDMX LAB.\n"
   ]
  },
  {
   "cell_type": "code",
   "execution_count": null,
   "id": "4bb64dc5",
   "metadata": {},
   "outputs": [],
   "source": [
    "# # %% [markdown]\n",
    "# ### Transcoding with Verification\n",
    "#\n",
    "# Refer to SDMX.IO learning resources materials. NB: need adaptation to run in SDMX LAB."
   ]
  },
  {
   "cell_type": "markdown",
   "id": "79b839ff",
   "metadata": {
    "lines_to_next_cell": 0
   },
   "source": [
    "# Reference Metadata\n",
    "\n",
    "This notebook demonstrates Reference Metadata\n",
    "### \n",
    "\n",
    "The essence of the refernce metadata section is to demonstrate the elements to be created for a simple data pipeline\n",
    "system controlled by reference metadata (loosely coupled business logic, versioned, ...). In brief, metadata driven processes.\n",
    "\n",
    "**Reference Metadata**\n",
    "Category Scheme: A tree representing data pipeline process/workflow.\n",
    "   [] Dataflows are attached to the tree IFF they are to be processed as a part of the workflow\n",
    "   [] Annotation attached to Category Scheme to indicate the associated Metadataflow\n",
    "   [] A metadata report is created for each dataflow. It has the 'process settings' for the dataflow and is attached to the dataflow\n",
    "Codelists: For decision trees\n",
    "Metadata Structure Definition: \n",
    "Metadataflows: One per process\n",
    "Metadatasets: One per dataflow. The process settings for this dataflow.\n",
    "Provision Agreements: according to needs of process workflow\n",
    "\n",
    "See artifacts in FMR (after AllStructures.json is loaded)\n",
    "See https://py.sdmx.io section on 'processes'\n"
   ]
  },
  {
   "cell_type": "markdown",
   "id": "792bfdd1",
   "metadata": {},
   "source": [
    "### \n"
   ]
  },
  {
   "cell_type": "code",
   "execution_count": null,
   "id": "7ddafcbd",
   "metadata": {
    "lines_to_next_cell": 2,
    "title": "(code)"
   },
   "outputs": [],
   "source": [
    "from pathlib import Path\n",
    "import json\n",
    "import requests\n",
    "import certifi\n",
    "from lxml import etree"
   ]
  },
  {
   "cell_type": "markdown",
   "id": "8459c784",
   "metadata": {
    "lines_to_next_cell": 0
   },
   "source": [
    "### POST A METADATA REPORT TO DATAFLOW\n",
    "\n",
    "URL to POST a metadata report:  {fmr_url}/ws/secure/sdmx/v2/metadata\n",
    "URL to GET a metadata report: {fmr_url}/sdmx/v2/metadata"
   ]
  },
  {
   "cell_type": "code",
   "execution_count": null,
   "id": "0dbb68a5",
   "metadata": {
    "title": "(code)"
   },
   "outputs": [],
   "source": [
    "from pathlib import Path\n",
    "import json\n",
    "import requests\n",
    "import certifi\n",
    "from lxml import etree\n",
    "from getpass import getpass\n",
    "from requests.auth import HTTPBasicAuth\n",
    "\n",
    "root_dir = f\"/Users/client-bis/dev/repos/data-pipelines\" #FIX\n",
    "\n",
    "# Prepare SDMX structural metadata artefacts\n",
    "endpoint = f\"{fmr_url}/ws/secure/sdmx/v2/metadata\"\n",
    "reports = {f\"{root_dir}/data/PID001-pass.json\",\n",
    "        f\"{root_dir}/data/PID001_DF2-pass.json\",\n",
    "        }\n",
    "\n",
    "headers = {\"Content-Type\": \"application/json\"}\n",
    "\n",
    "for path in reports: \n",
    "    # Submit and upload report to FMR\n",
    "    payload = open(path, \"rb\")\n",
    "    response = requests.post(\n",
    "        endpoint, \n",
    "        data=payload, \n",
    "        headers=headers, \n",
    "        auth=(user, password),\n",
    "        verify=False\n",
    "    )\n",
    "\n",
    "    # Display response\n",
    "    if response.status_code in [200, 201]:\n",
    "        print(\"Resource successfully created in FMR.\")\n",
    "        print(\"Response:\", response.text)\n",
    "    else:\n",
    "        print(f\"Failed to create resource. Status code: {response.status_code}\")\n",
    "        print(\"Response:\", response.text)\n",
    "\n",
    "# NOTE: replace with pysdmx calls once SDMX LAB auth access is ready.\n",
    "# \n",
    "# next: open FMR UI, open dataflow, confirm metadata report is attached to dataflow."
   ]
  },
  {
   "cell_type": "markdown",
   "id": "39fa58aa",
   "metadata": {
    "lines_to_next_cell": 0
   },
   "source": [
    "### GET A METADATA REPORT TO DATAFLOW\n",
    "\n",
    "URL to POST a metadata report:  {fmr_url}/ws/secure/sdmx/v2/metadata\n",
    "URL to GET a metadata report: {fmr_url}/sdmx/v2/metadata\n"
   ]
  },
  {
   "cell_type": "code",
   "execution_count": null,
   "id": "06ecc7f4",
   "metadata": {
    "title": "(code)"
   },
   "outputs": [],
   "source": [
    "from pathlib import Path\n",
    "import json\n",
    "import requests\n",
    "import certifi\n",
    "from lxml import etree\n",
    "from getpass import getpass\n",
    "from requests.auth import HTTPBasicAuth\n",
    "\n",
    "# Prepare SDMX structural metadata artifacts\n",
    "endpoint = f\"{fmr_url}/sdmx/v2/metadata/metadataset/BIS.SDMXIO/*/*\"\n",
    "headers = {\"Content-Type\": \"application/json\"}\n",
    "\n",
    "# Retrieve metadatasets from FMR for http://localhost:8080/sdmx/v2/metadata/metadataset \n",
    "# ie. for BIS.SDMXIO/*/*\n",
    "#  \n",
    "if sdmx_lab: #auth\n",
    "    response = requests.get(\n",
    "        endpoint, \n",
    "        headers=headers, \n",
    "        auth=(user, password),\n",
    "        verify=False\n",
    "    )\n",
    "else: # no auth\n",
    "    response = requests.get(\n",
    "        endpoint, \n",
    "        headers=headers, \n",
    "        verify=False\n",
    "    )\n",
    "\n",
    "# Display response\n",
    "if response.status_code in [200, 201]:\n",
    "    print(\"Resource successfully created in FMR.\")\n",
    "    print(\"Response:\", response.text)\n",
    "else:\n",
    "    print(f\"Failed to create resource. Status code: {response.status_code}\")\n",
    "    print(\"Response:\", response.text)\n",
    "\n",
    "#TODO - do the same thing now using pysdmx\n",
    "#\n",
    "# Open output in VS CODE or text editor ... and look at content."
   ]
  },
  {
   "cell_type": "markdown",
   "id": "78561e49",
   "metadata": {
    "lines_to_next_cell": 0
   },
   "source": [
    "# Data Pipelines\n",
    "\n",
    "This notebook demonstrates the Data Pipeline workflow"
   ]
  },
  {
   "cell_type": "markdown",
   "id": "22b46dd3",
   "metadata": {},
   "source": [
    "### \n",
    "\n",
    "The essence of the data pipepline section is to take the building blocks seen earlier and string them together \n",
    "into a sequence of tasks guided by the content of the metadata report attached to each dataflow within\n",
    "the Data Pipelines Category Scheme.\n",
    "\n",
    "**Data Pipeline metadata:**\n",
    "Category Scheme: A tree representing data pipeline process/workflow.\n",
    "   [] Dataflows are attached to the tree IFF they are to be processed as a part of the workflow\n",
    "   [] Annotation attached to Category Scheme to indicate the associated Metadataflow\n",
    "   [] A metadata report is created for each dataflow. It has the 'process settings' for the dataflow and is attached to the dataflow\n",
    "\n",
    "Processing: \n",
    "   Events trigger the pipeline. \n",
    "   The category scheme is traversed and each dataflow is processed according to the attached metadataflow.\n",
    "\n",
    "See https://py.sdmx.io section on 'processes'\n"
   ]
  },
  {
   "cell_type": "code",
   "execution_count": null,
   "id": "b762f617",
   "metadata": {
    "lines_to_next_cell": 2,
    "title": "(code)"
   },
   "outputs": [],
   "source": [
    "from pathlib import Path\n",
    "import json\n",
    "import requests\n",
    "import certifi\n",
    "from lxml import etree"
   ]
  }
 ],
 "metadata": {},
 "nbformat": 4,
 "nbformat_minor": 5
}
